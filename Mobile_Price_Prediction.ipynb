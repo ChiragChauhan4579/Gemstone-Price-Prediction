{
  "nbformat": 4,
  "nbformat_minor": 0,
  "metadata": {
    "colab": {
      "name": "Mobile-Price-Prediction.ipynb",
      "provenance": [],
      "collapsed_sections": []
    },
    "kernelspec": {
      "name": "python3",
      "display_name": "Python 3"
    },
    "language_info": {
      "name": "python"
    }
  },
  "cells": [
    {
      "cell_type": "markdown",
      "metadata": {
        "id": "7JaGAXh3hu0I"
      },
      "source": [
        "# Data Information\n",
        "\n",
        "Carat -> Carat weight of the cubic zirconia.\n",
        "\n",
        "Cut -> Describe the cut quality of the cubic zirconia. Quality is increasing order Fair, Good, Very Good, Premium, Ideal.\n",
        "\n",
        "Color -> Colour of the cubic zirconia.With D being the best and J the worst.\n",
        "\n",
        "Clarity\t-> cubic zirconia Clarity refers to the absence of the Inclusions and Blemishes. (In order from Best to Worst, FL = flawless, I3= level 3 inclusions) FL, IF, VVS1, VVS2, VS1, VS2, SI1, SI2, I1, I2, I3\n",
        "\n",
        "Depth ->\t The Height of a cubic zirconia, measured from the Culet to the table, divided by its average Girdle Diameter.\n",
        "\n",
        "Table ->\t The Width of the cubic zirconia's Table expressed as a Percentage of its Average Diameter.\n",
        "\n",
        "Price ->\t the Price of the cubic zirconia.\n",
        "\n",
        "X ->\t Length of the cubic zirconia in mm.\n",
        "\n",
        "Y\t-> Width of the cubic zirconia in mm.\n",
        "\n",
        "Z ->\t Height of the cubic zirconia in mm."
      ]
    },
    {
      "cell_type": "code",
      "metadata": {
        "id": "sKFOONnpdX7s"
      },
      "source": [
        "import numpy as np\n",
        "import pandas as pd\n",
        "import matplotlib.pyplot as plt\n",
        "import seaborn as sns\n",
        "from sklearn.preprocessing import LabelEncoder"
      ],
      "execution_count": 1,
      "outputs": []
    },
    {
      "cell_type": "code",
      "metadata": {
        "id": "0FjblIOseDdN"
      },
      "source": [
        "df = pd.read_csv('/content/drive/MyDrive/Dataset/Gemstone-Price/cubic_zirconia.csv')"
      ],
      "execution_count": 92,
      "outputs": []
    },
    {
      "cell_type": "code",
      "metadata": {
        "colab": {
          "base_uri": "https://localhost:8080/",
          "height": 356
        },
        "id": "-LX1AM9seHph",
        "outputId": "0ec5ddd8-b1ca-43dc-9090-a52552875134"
      },
      "source": [
        "df.head(10)"
      ],
      "execution_count": 93,
      "outputs": [
        {
          "output_type": "execute_result",
          "data": {
            "text/html": [
              "<div>\n",
              "<style scoped>\n",
              "    .dataframe tbody tr th:only-of-type {\n",
              "        vertical-align: middle;\n",
              "    }\n",
              "\n",
              "    .dataframe tbody tr th {\n",
              "        vertical-align: top;\n",
              "    }\n",
              "\n",
              "    .dataframe thead th {\n",
              "        text-align: right;\n",
              "    }\n",
              "</style>\n",
              "<table border=\"1\" class=\"dataframe\">\n",
              "  <thead>\n",
              "    <tr style=\"text-align: right;\">\n",
              "      <th></th>\n",
              "      <th>Unnamed: 0</th>\n",
              "      <th>carat</th>\n",
              "      <th>cut</th>\n",
              "      <th>color</th>\n",
              "      <th>clarity</th>\n",
              "      <th>depth</th>\n",
              "      <th>table</th>\n",
              "      <th>x</th>\n",
              "      <th>y</th>\n",
              "      <th>z</th>\n",
              "      <th>price</th>\n",
              "    </tr>\n",
              "  </thead>\n",
              "  <tbody>\n",
              "    <tr>\n",
              "      <th>0</th>\n",
              "      <td>1</td>\n",
              "      <td>0.30</td>\n",
              "      <td>Ideal</td>\n",
              "      <td>E</td>\n",
              "      <td>SI1</td>\n",
              "      <td>62.1</td>\n",
              "      <td>58.0</td>\n",
              "      <td>4.27</td>\n",
              "      <td>4.29</td>\n",
              "      <td>2.66</td>\n",
              "      <td>499</td>\n",
              "    </tr>\n",
              "    <tr>\n",
              "      <th>1</th>\n",
              "      <td>2</td>\n",
              "      <td>0.33</td>\n",
              "      <td>Premium</td>\n",
              "      <td>G</td>\n",
              "      <td>IF</td>\n",
              "      <td>60.8</td>\n",
              "      <td>58.0</td>\n",
              "      <td>4.42</td>\n",
              "      <td>4.46</td>\n",
              "      <td>2.70</td>\n",
              "      <td>984</td>\n",
              "    </tr>\n",
              "    <tr>\n",
              "      <th>2</th>\n",
              "      <td>3</td>\n",
              "      <td>0.90</td>\n",
              "      <td>Very Good</td>\n",
              "      <td>E</td>\n",
              "      <td>VVS2</td>\n",
              "      <td>62.2</td>\n",
              "      <td>60.0</td>\n",
              "      <td>6.04</td>\n",
              "      <td>6.12</td>\n",
              "      <td>3.78</td>\n",
              "      <td>6289</td>\n",
              "    </tr>\n",
              "    <tr>\n",
              "      <th>3</th>\n",
              "      <td>4</td>\n",
              "      <td>0.42</td>\n",
              "      <td>Ideal</td>\n",
              "      <td>F</td>\n",
              "      <td>VS1</td>\n",
              "      <td>61.6</td>\n",
              "      <td>56.0</td>\n",
              "      <td>4.82</td>\n",
              "      <td>4.80</td>\n",
              "      <td>2.96</td>\n",
              "      <td>1082</td>\n",
              "    </tr>\n",
              "    <tr>\n",
              "      <th>4</th>\n",
              "      <td>5</td>\n",
              "      <td>0.31</td>\n",
              "      <td>Ideal</td>\n",
              "      <td>F</td>\n",
              "      <td>VVS1</td>\n",
              "      <td>60.4</td>\n",
              "      <td>59.0</td>\n",
              "      <td>4.35</td>\n",
              "      <td>4.43</td>\n",
              "      <td>2.65</td>\n",
              "      <td>779</td>\n",
              "    </tr>\n",
              "    <tr>\n",
              "      <th>5</th>\n",
              "      <td>6</td>\n",
              "      <td>1.02</td>\n",
              "      <td>Ideal</td>\n",
              "      <td>D</td>\n",
              "      <td>VS2</td>\n",
              "      <td>61.5</td>\n",
              "      <td>56.0</td>\n",
              "      <td>6.46</td>\n",
              "      <td>6.49</td>\n",
              "      <td>3.99</td>\n",
              "      <td>9502</td>\n",
              "    </tr>\n",
              "    <tr>\n",
              "      <th>6</th>\n",
              "      <td>7</td>\n",
              "      <td>1.01</td>\n",
              "      <td>Good</td>\n",
              "      <td>H</td>\n",
              "      <td>SI1</td>\n",
              "      <td>63.7</td>\n",
              "      <td>60.0</td>\n",
              "      <td>6.35</td>\n",
              "      <td>6.30</td>\n",
              "      <td>4.03</td>\n",
              "      <td>4836</td>\n",
              "    </tr>\n",
              "    <tr>\n",
              "      <th>7</th>\n",
              "      <td>8</td>\n",
              "      <td>0.50</td>\n",
              "      <td>Premium</td>\n",
              "      <td>E</td>\n",
              "      <td>SI1</td>\n",
              "      <td>61.5</td>\n",
              "      <td>62.0</td>\n",
              "      <td>5.09</td>\n",
              "      <td>5.06</td>\n",
              "      <td>3.12</td>\n",
              "      <td>1415</td>\n",
              "    </tr>\n",
              "    <tr>\n",
              "      <th>8</th>\n",
              "      <td>9</td>\n",
              "      <td>1.21</td>\n",
              "      <td>Good</td>\n",
              "      <td>H</td>\n",
              "      <td>SI1</td>\n",
              "      <td>63.8</td>\n",
              "      <td>64.0</td>\n",
              "      <td>6.72</td>\n",
              "      <td>6.63</td>\n",
              "      <td>4.26</td>\n",
              "      <td>5407</td>\n",
              "    </tr>\n",
              "    <tr>\n",
              "      <th>9</th>\n",
              "      <td>10</td>\n",
              "      <td>0.35</td>\n",
              "      <td>Ideal</td>\n",
              "      <td>F</td>\n",
              "      <td>VS2</td>\n",
              "      <td>60.5</td>\n",
              "      <td>57.0</td>\n",
              "      <td>4.52</td>\n",
              "      <td>4.60</td>\n",
              "      <td>2.76</td>\n",
              "      <td>706</td>\n",
              "    </tr>\n",
              "  </tbody>\n",
              "</table>\n",
              "</div>"
            ],
            "text/plain": [
              "   Unnamed: 0  carat        cut color clarity  ...  table     x     y     z  price\n",
              "0           1   0.30      Ideal     E     SI1  ...   58.0  4.27  4.29  2.66    499\n",
              "1           2   0.33    Premium     G      IF  ...   58.0  4.42  4.46  2.70    984\n",
              "2           3   0.90  Very Good     E    VVS2  ...   60.0  6.04  6.12  3.78   6289\n",
              "3           4   0.42      Ideal     F     VS1  ...   56.0  4.82  4.80  2.96   1082\n",
              "4           5   0.31      Ideal     F    VVS1  ...   59.0  4.35  4.43  2.65    779\n",
              "5           6   1.02      Ideal     D     VS2  ...   56.0  6.46  6.49  3.99   9502\n",
              "6           7   1.01       Good     H     SI1  ...   60.0  6.35  6.30  4.03   4836\n",
              "7           8   0.50    Premium     E     SI1  ...   62.0  5.09  5.06  3.12   1415\n",
              "8           9   1.21       Good     H     SI1  ...   64.0  6.72  6.63  4.26   5407\n",
              "9          10   0.35      Ideal     F     VS2  ...   57.0  4.52  4.60  2.76    706\n",
              "\n",
              "[10 rows x 11 columns]"
            ]
          },
          "metadata": {
            "tags": []
          },
          "execution_count": 93
        }
      ]
    },
    {
      "cell_type": "code",
      "metadata": {
        "id": "IhJToanGg_LH"
      },
      "source": [
        "df.drop('Unnamed: 0',axis=1,inplace=True)"
      ],
      "execution_count": 94,
      "outputs": []
    },
    {
      "cell_type": "code",
      "metadata": {
        "colab": {
          "base_uri": "https://localhost:8080/",
          "height": 415
        },
        "id": "LqHLeY-0hWrG",
        "outputId": "1e497b63-a706-4552-8a10-909167569dba"
      },
      "source": [
        "df"
      ],
      "execution_count": 95,
      "outputs": [
        {
          "output_type": "execute_result",
          "data": {
            "text/html": [
              "<div>\n",
              "<style scoped>\n",
              "    .dataframe tbody tr th:only-of-type {\n",
              "        vertical-align: middle;\n",
              "    }\n",
              "\n",
              "    .dataframe tbody tr th {\n",
              "        vertical-align: top;\n",
              "    }\n",
              "\n",
              "    .dataframe thead th {\n",
              "        text-align: right;\n",
              "    }\n",
              "</style>\n",
              "<table border=\"1\" class=\"dataframe\">\n",
              "  <thead>\n",
              "    <tr style=\"text-align: right;\">\n",
              "      <th></th>\n",
              "      <th>carat</th>\n",
              "      <th>cut</th>\n",
              "      <th>color</th>\n",
              "      <th>clarity</th>\n",
              "      <th>depth</th>\n",
              "      <th>table</th>\n",
              "      <th>x</th>\n",
              "      <th>y</th>\n",
              "      <th>z</th>\n",
              "      <th>price</th>\n",
              "    </tr>\n",
              "  </thead>\n",
              "  <tbody>\n",
              "    <tr>\n",
              "      <th>0</th>\n",
              "      <td>0.30</td>\n",
              "      <td>Ideal</td>\n",
              "      <td>E</td>\n",
              "      <td>SI1</td>\n",
              "      <td>62.1</td>\n",
              "      <td>58.0</td>\n",
              "      <td>4.27</td>\n",
              "      <td>4.29</td>\n",
              "      <td>2.66</td>\n",
              "      <td>499</td>\n",
              "    </tr>\n",
              "    <tr>\n",
              "      <th>1</th>\n",
              "      <td>0.33</td>\n",
              "      <td>Premium</td>\n",
              "      <td>G</td>\n",
              "      <td>IF</td>\n",
              "      <td>60.8</td>\n",
              "      <td>58.0</td>\n",
              "      <td>4.42</td>\n",
              "      <td>4.46</td>\n",
              "      <td>2.70</td>\n",
              "      <td>984</td>\n",
              "    </tr>\n",
              "    <tr>\n",
              "      <th>2</th>\n",
              "      <td>0.90</td>\n",
              "      <td>Very Good</td>\n",
              "      <td>E</td>\n",
              "      <td>VVS2</td>\n",
              "      <td>62.2</td>\n",
              "      <td>60.0</td>\n",
              "      <td>6.04</td>\n",
              "      <td>6.12</td>\n",
              "      <td>3.78</td>\n",
              "      <td>6289</td>\n",
              "    </tr>\n",
              "    <tr>\n",
              "      <th>3</th>\n",
              "      <td>0.42</td>\n",
              "      <td>Ideal</td>\n",
              "      <td>F</td>\n",
              "      <td>VS1</td>\n",
              "      <td>61.6</td>\n",
              "      <td>56.0</td>\n",
              "      <td>4.82</td>\n",
              "      <td>4.80</td>\n",
              "      <td>2.96</td>\n",
              "      <td>1082</td>\n",
              "    </tr>\n",
              "    <tr>\n",
              "      <th>4</th>\n",
              "      <td>0.31</td>\n",
              "      <td>Ideal</td>\n",
              "      <td>F</td>\n",
              "      <td>VVS1</td>\n",
              "      <td>60.4</td>\n",
              "      <td>59.0</td>\n",
              "      <td>4.35</td>\n",
              "      <td>4.43</td>\n",
              "      <td>2.65</td>\n",
              "      <td>779</td>\n",
              "    </tr>\n",
              "    <tr>\n",
              "      <th>...</th>\n",
              "      <td>...</td>\n",
              "      <td>...</td>\n",
              "      <td>...</td>\n",
              "      <td>...</td>\n",
              "      <td>...</td>\n",
              "      <td>...</td>\n",
              "      <td>...</td>\n",
              "      <td>...</td>\n",
              "      <td>...</td>\n",
              "      <td>...</td>\n",
              "    </tr>\n",
              "    <tr>\n",
              "      <th>26962</th>\n",
              "      <td>1.11</td>\n",
              "      <td>Premium</td>\n",
              "      <td>G</td>\n",
              "      <td>SI1</td>\n",
              "      <td>62.3</td>\n",
              "      <td>58.0</td>\n",
              "      <td>6.61</td>\n",
              "      <td>6.52</td>\n",
              "      <td>4.09</td>\n",
              "      <td>5408</td>\n",
              "    </tr>\n",
              "    <tr>\n",
              "      <th>26963</th>\n",
              "      <td>0.33</td>\n",
              "      <td>Ideal</td>\n",
              "      <td>H</td>\n",
              "      <td>IF</td>\n",
              "      <td>61.9</td>\n",
              "      <td>55.0</td>\n",
              "      <td>4.44</td>\n",
              "      <td>4.42</td>\n",
              "      <td>2.74</td>\n",
              "      <td>1114</td>\n",
              "    </tr>\n",
              "    <tr>\n",
              "      <th>26964</th>\n",
              "      <td>0.51</td>\n",
              "      <td>Premium</td>\n",
              "      <td>E</td>\n",
              "      <td>VS2</td>\n",
              "      <td>61.7</td>\n",
              "      <td>58.0</td>\n",
              "      <td>5.12</td>\n",
              "      <td>5.15</td>\n",
              "      <td>3.17</td>\n",
              "      <td>1656</td>\n",
              "    </tr>\n",
              "    <tr>\n",
              "      <th>26965</th>\n",
              "      <td>0.27</td>\n",
              "      <td>Very Good</td>\n",
              "      <td>F</td>\n",
              "      <td>VVS2</td>\n",
              "      <td>61.8</td>\n",
              "      <td>56.0</td>\n",
              "      <td>4.19</td>\n",
              "      <td>4.20</td>\n",
              "      <td>2.60</td>\n",
              "      <td>682</td>\n",
              "    </tr>\n",
              "    <tr>\n",
              "      <th>26966</th>\n",
              "      <td>1.25</td>\n",
              "      <td>Premium</td>\n",
              "      <td>J</td>\n",
              "      <td>SI1</td>\n",
              "      <td>62.0</td>\n",
              "      <td>58.0</td>\n",
              "      <td>6.90</td>\n",
              "      <td>6.88</td>\n",
              "      <td>4.27</td>\n",
              "      <td>5166</td>\n",
              "    </tr>\n",
              "  </tbody>\n",
              "</table>\n",
              "<p>26967 rows × 10 columns</p>\n",
              "</div>"
            ],
            "text/plain": [
              "       carat        cut color clarity  depth  table     x     y     z  price\n",
              "0       0.30      Ideal     E     SI1   62.1   58.0  4.27  4.29  2.66    499\n",
              "1       0.33    Premium     G      IF   60.8   58.0  4.42  4.46  2.70    984\n",
              "2       0.90  Very Good     E    VVS2   62.2   60.0  6.04  6.12  3.78   6289\n",
              "3       0.42      Ideal     F     VS1   61.6   56.0  4.82  4.80  2.96   1082\n",
              "4       0.31      Ideal     F    VVS1   60.4   59.0  4.35  4.43  2.65    779\n",
              "...      ...        ...   ...     ...    ...    ...   ...   ...   ...    ...\n",
              "26962   1.11    Premium     G     SI1   62.3   58.0  6.61  6.52  4.09   5408\n",
              "26963   0.33      Ideal     H      IF   61.9   55.0  4.44  4.42  2.74   1114\n",
              "26964   0.51    Premium     E     VS2   61.7   58.0  5.12  5.15  3.17   1656\n",
              "26965   0.27  Very Good     F    VVS2   61.8   56.0  4.19  4.20  2.60    682\n",
              "26966   1.25    Premium     J     SI1   62.0   58.0  6.90  6.88  4.27   5166\n",
              "\n",
              "[26967 rows x 10 columns]"
            ]
          },
          "metadata": {
            "tags": []
          },
          "execution_count": 95
        }
      ]
    },
    {
      "cell_type": "code",
      "metadata": {
        "colab": {
          "base_uri": "https://localhost:8080/"
        },
        "id": "4Lx86DSRiV1D",
        "outputId": "7c78f83b-b6b3-47e0-d3ef-256970ce27c7"
      },
      "source": [
        "df.shape"
      ],
      "execution_count": 96,
      "outputs": [
        {
          "output_type": "execute_result",
          "data": {
            "text/plain": [
              "(26967, 10)"
            ]
          },
          "metadata": {
            "tags": []
          },
          "execution_count": 96
        }
      ]
    },
    {
      "cell_type": "code",
      "metadata": {
        "colab": {
          "base_uri": "https://localhost:8080/",
          "height": 294
        },
        "id": "6wdK6Oa5o-ry",
        "outputId": "e972d479-f1c9-410f-f687-9d5e278c665e"
      },
      "source": [
        "df.describe()"
      ],
      "execution_count": 97,
      "outputs": [
        {
          "output_type": "execute_result",
          "data": {
            "text/html": [
              "<div>\n",
              "<style scoped>\n",
              "    .dataframe tbody tr th:only-of-type {\n",
              "        vertical-align: middle;\n",
              "    }\n",
              "\n",
              "    .dataframe tbody tr th {\n",
              "        vertical-align: top;\n",
              "    }\n",
              "\n",
              "    .dataframe thead th {\n",
              "        text-align: right;\n",
              "    }\n",
              "</style>\n",
              "<table border=\"1\" class=\"dataframe\">\n",
              "  <thead>\n",
              "    <tr style=\"text-align: right;\">\n",
              "      <th></th>\n",
              "      <th>carat</th>\n",
              "      <th>depth</th>\n",
              "      <th>table</th>\n",
              "      <th>x</th>\n",
              "      <th>y</th>\n",
              "      <th>z</th>\n",
              "      <th>price</th>\n",
              "    </tr>\n",
              "  </thead>\n",
              "  <tbody>\n",
              "    <tr>\n",
              "      <th>count</th>\n",
              "      <td>26967.000000</td>\n",
              "      <td>26270.000000</td>\n",
              "      <td>26967.000000</td>\n",
              "      <td>26967.000000</td>\n",
              "      <td>26967.000000</td>\n",
              "      <td>26967.000000</td>\n",
              "      <td>26967.000000</td>\n",
              "    </tr>\n",
              "    <tr>\n",
              "      <th>mean</th>\n",
              "      <td>0.798375</td>\n",
              "      <td>61.745147</td>\n",
              "      <td>57.456080</td>\n",
              "      <td>5.729854</td>\n",
              "      <td>5.733569</td>\n",
              "      <td>3.538057</td>\n",
              "      <td>3939.518115</td>\n",
              "    </tr>\n",
              "    <tr>\n",
              "      <th>std</th>\n",
              "      <td>0.477745</td>\n",
              "      <td>1.412860</td>\n",
              "      <td>2.232068</td>\n",
              "      <td>1.128516</td>\n",
              "      <td>1.166058</td>\n",
              "      <td>0.720624</td>\n",
              "      <td>4024.864666</td>\n",
              "    </tr>\n",
              "    <tr>\n",
              "      <th>min</th>\n",
              "      <td>0.200000</td>\n",
              "      <td>50.800000</td>\n",
              "      <td>49.000000</td>\n",
              "      <td>0.000000</td>\n",
              "      <td>0.000000</td>\n",
              "      <td>0.000000</td>\n",
              "      <td>326.000000</td>\n",
              "    </tr>\n",
              "    <tr>\n",
              "      <th>25%</th>\n",
              "      <td>0.400000</td>\n",
              "      <td>61.000000</td>\n",
              "      <td>56.000000</td>\n",
              "      <td>4.710000</td>\n",
              "      <td>4.710000</td>\n",
              "      <td>2.900000</td>\n",
              "      <td>945.000000</td>\n",
              "    </tr>\n",
              "    <tr>\n",
              "      <th>50%</th>\n",
              "      <td>0.700000</td>\n",
              "      <td>61.800000</td>\n",
              "      <td>57.000000</td>\n",
              "      <td>5.690000</td>\n",
              "      <td>5.710000</td>\n",
              "      <td>3.520000</td>\n",
              "      <td>2375.000000</td>\n",
              "    </tr>\n",
              "    <tr>\n",
              "      <th>75%</th>\n",
              "      <td>1.050000</td>\n",
              "      <td>62.500000</td>\n",
              "      <td>59.000000</td>\n",
              "      <td>6.550000</td>\n",
              "      <td>6.540000</td>\n",
              "      <td>4.040000</td>\n",
              "      <td>5360.000000</td>\n",
              "    </tr>\n",
              "    <tr>\n",
              "      <th>max</th>\n",
              "      <td>4.500000</td>\n",
              "      <td>73.600000</td>\n",
              "      <td>79.000000</td>\n",
              "      <td>10.230000</td>\n",
              "      <td>58.900000</td>\n",
              "      <td>31.800000</td>\n",
              "      <td>18818.000000</td>\n",
              "    </tr>\n",
              "  </tbody>\n",
              "</table>\n",
              "</div>"
            ],
            "text/plain": [
              "              carat         depth  ...             z         price\n",
              "count  26967.000000  26270.000000  ...  26967.000000  26967.000000\n",
              "mean       0.798375     61.745147  ...      3.538057   3939.518115\n",
              "std        0.477745      1.412860  ...      0.720624   4024.864666\n",
              "min        0.200000     50.800000  ...      0.000000    326.000000\n",
              "25%        0.400000     61.000000  ...      2.900000    945.000000\n",
              "50%        0.700000     61.800000  ...      3.520000   2375.000000\n",
              "75%        1.050000     62.500000  ...      4.040000   5360.000000\n",
              "max        4.500000     73.600000  ...     31.800000  18818.000000\n",
              "\n",
              "[8 rows x 7 columns]"
            ]
          },
          "metadata": {
            "tags": []
          },
          "execution_count": 97
        }
      ]
    },
    {
      "cell_type": "code",
      "metadata": {
        "id": "qU0mL3SdhgJd"
      },
      "source": [
        "numerical_feature = [feature for feature in df.columns if df[feature].dtypes != 'O']\n",
        "discrete_feature=[feature for feature in numerical_feature if len(df[feature].unique())<25]\n",
        "continuous_feature = [feature for feature in numerical_feature if feature not in discrete_feature]\n",
        "categorical_feature = [feature for feature in df.columns if feature not in numerical_feature]"
      ],
      "execution_count": 98,
      "outputs": []
    },
    {
      "cell_type": "code",
      "metadata": {
        "colab": {
          "base_uri": "https://localhost:8080/"
        },
        "id": "ZzE6V9KuiPZx",
        "outputId": "c6d23211-5975-4f99-ff7d-1e04999f0cc1"
      },
      "source": [
        "print(\"Numerical Features Count {}\".format(len(numerical_feature)))\n",
        "print(\"Discrete feature Count {}\".format(len(discrete_feature)))\n",
        "print(\"Continuous feature Count {}\".format(len(continuous_feature)))\n",
        "print(\"Categorical feature Count {}\".format(len(categorical_feature)))"
      ],
      "execution_count": 99,
      "outputs": [
        {
          "output_type": "stream",
          "text": [
            "Numerical Features Count 7\n",
            "Discrete feature Count 0\n",
            "Continuous feature Count 7\n",
            "Categorical feature Count 3\n"
          ],
          "name": "stdout"
        }
      ]
    },
    {
      "cell_type": "code",
      "metadata": {
        "colab": {
          "base_uri": "https://localhost:8080/"
        },
        "id": "TAme65bxiaxX",
        "outputId": "94041695-7caa-418a-d64c-0204f8e72690"
      },
      "source": [
        "categorical_feature"
      ],
      "execution_count": 100,
      "outputs": [
        {
          "output_type": "execute_result",
          "data": {
            "text/plain": [
              "['cut', 'color', 'clarity']"
            ]
          },
          "metadata": {
            "tags": []
          },
          "execution_count": 100
        }
      ]
    },
    {
      "cell_type": "code",
      "metadata": {
        "colab": {
          "base_uri": "https://localhost:8080/"
        },
        "id": "pMT0F17XisZa",
        "outputId": "d29a5e58-98a4-417e-8ba7-7a4cbba846ca"
      },
      "source": [
        "df['cut'].value_counts()"
      ],
      "execution_count": 101,
      "outputs": [
        {
          "output_type": "execute_result",
          "data": {
            "text/plain": [
              "Ideal        10816\n",
              "Premium       6899\n",
              "Very Good     6030\n",
              "Good          2441\n",
              "Fair           781\n",
              "Name: cut, dtype: int64"
            ]
          },
          "metadata": {
            "tags": []
          },
          "execution_count": 101
        }
      ]
    },
    {
      "cell_type": "code",
      "metadata": {
        "colab": {
          "base_uri": "https://localhost:8080/"
        },
        "id": "FOeOu-i5jLp7",
        "outputId": "69658180-63a3-4ddb-d484-d02026a2de93"
      },
      "source": [
        "df['color'].value_counts()"
      ],
      "execution_count": 102,
      "outputs": [
        {
          "output_type": "execute_result",
          "data": {
            "text/plain": [
              "G    5661\n",
              "E    4917\n",
              "F    4729\n",
              "H    4102\n",
              "D    3344\n",
              "I    2771\n",
              "J    1443\n",
              "Name: color, dtype: int64"
            ]
          },
          "metadata": {
            "tags": []
          },
          "execution_count": 102
        }
      ]
    },
    {
      "cell_type": "code",
      "metadata": {
        "colab": {
          "base_uri": "https://localhost:8080/"
        },
        "id": "LZBI8bDpjO4n",
        "outputId": "28211d6f-d623-4863-bf62-e71c90e1f229"
      },
      "source": [
        "df['clarity'].value_counts()"
      ],
      "execution_count": 104,
      "outputs": [
        {
          "output_type": "execute_result",
          "data": {
            "text/plain": [
              "SI1     6571\n",
              "VS2     6099\n",
              "SI2     4575\n",
              "VS1     4093\n",
              "VVS2    2531\n",
              "VVS1    1839\n",
              "IF       894\n",
              "I1       365\n",
              "Name: clarity, dtype: int64"
            ]
          },
          "metadata": {
            "tags": []
          },
          "execution_count": 104
        }
      ]
    },
    {
      "cell_type": "code",
      "metadata": {
        "colab": {
          "base_uri": "https://localhost:8080/",
          "height": 415
        },
        "id": "mApi93QUjRY3",
        "outputId": "c62941c3-416f-4d24-cec5-74d5d9de3566"
      },
      "source": [
        "df = df.replace({'Ideal':4,'Premium':3,'Very Good':2,'Good':1,'Fair':0})\n",
        "df"
      ],
      "execution_count": 107,
      "outputs": [
        {
          "output_type": "execute_result",
          "data": {
            "text/html": [
              "<div>\n",
              "<style scoped>\n",
              "    .dataframe tbody tr th:only-of-type {\n",
              "        vertical-align: middle;\n",
              "    }\n",
              "\n",
              "    .dataframe tbody tr th {\n",
              "        vertical-align: top;\n",
              "    }\n",
              "\n",
              "    .dataframe thead th {\n",
              "        text-align: right;\n",
              "    }\n",
              "</style>\n",
              "<table border=\"1\" class=\"dataframe\">\n",
              "  <thead>\n",
              "    <tr style=\"text-align: right;\">\n",
              "      <th></th>\n",
              "      <th>carat</th>\n",
              "      <th>cut</th>\n",
              "      <th>color</th>\n",
              "      <th>clarity</th>\n",
              "      <th>depth</th>\n",
              "      <th>table</th>\n",
              "      <th>x</th>\n",
              "      <th>y</th>\n",
              "      <th>z</th>\n",
              "      <th>price</th>\n",
              "    </tr>\n",
              "  </thead>\n",
              "  <tbody>\n",
              "    <tr>\n",
              "      <th>0</th>\n",
              "      <td>0.30</td>\n",
              "      <td>4</td>\n",
              "      <td>E</td>\n",
              "      <td>SI1</td>\n",
              "      <td>62.1</td>\n",
              "      <td>58.0</td>\n",
              "      <td>4.27</td>\n",
              "      <td>4.29</td>\n",
              "      <td>2.66</td>\n",
              "      <td>499</td>\n",
              "    </tr>\n",
              "    <tr>\n",
              "      <th>1</th>\n",
              "      <td>0.33</td>\n",
              "      <td>3</td>\n",
              "      <td>G</td>\n",
              "      <td>IF</td>\n",
              "      <td>60.8</td>\n",
              "      <td>58.0</td>\n",
              "      <td>4.42</td>\n",
              "      <td>4.46</td>\n",
              "      <td>2.70</td>\n",
              "      <td>984</td>\n",
              "    </tr>\n",
              "    <tr>\n",
              "      <th>2</th>\n",
              "      <td>0.90</td>\n",
              "      <td>2</td>\n",
              "      <td>E</td>\n",
              "      <td>VVS2</td>\n",
              "      <td>62.2</td>\n",
              "      <td>60.0</td>\n",
              "      <td>6.04</td>\n",
              "      <td>6.12</td>\n",
              "      <td>3.78</td>\n",
              "      <td>6289</td>\n",
              "    </tr>\n",
              "    <tr>\n",
              "      <th>3</th>\n",
              "      <td>0.42</td>\n",
              "      <td>4</td>\n",
              "      <td>F</td>\n",
              "      <td>VS1</td>\n",
              "      <td>61.6</td>\n",
              "      <td>56.0</td>\n",
              "      <td>4.82</td>\n",
              "      <td>4.80</td>\n",
              "      <td>2.96</td>\n",
              "      <td>1082</td>\n",
              "    </tr>\n",
              "    <tr>\n",
              "      <th>4</th>\n",
              "      <td>0.31</td>\n",
              "      <td>4</td>\n",
              "      <td>F</td>\n",
              "      <td>VVS1</td>\n",
              "      <td>60.4</td>\n",
              "      <td>59.0</td>\n",
              "      <td>4.35</td>\n",
              "      <td>4.43</td>\n",
              "      <td>2.65</td>\n",
              "      <td>779</td>\n",
              "    </tr>\n",
              "    <tr>\n",
              "      <th>...</th>\n",
              "      <td>...</td>\n",
              "      <td>...</td>\n",
              "      <td>...</td>\n",
              "      <td>...</td>\n",
              "      <td>...</td>\n",
              "      <td>...</td>\n",
              "      <td>...</td>\n",
              "      <td>...</td>\n",
              "      <td>...</td>\n",
              "      <td>...</td>\n",
              "    </tr>\n",
              "    <tr>\n",
              "      <th>26962</th>\n",
              "      <td>1.11</td>\n",
              "      <td>3</td>\n",
              "      <td>G</td>\n",
              "      <td>SI1</td>\n",
              "      <td>62.3</td>\n",
              "      <td>58.0</td>\n",
              "      <td>6.61</td>\n",
              "      <td>6.52</td>\n",
              "      <td>4.09</td>\n",
              "      <td>5408</td>\n",
              "    </tr>\n",
              "    <tr>\n",
              "      <th>26963</th>\n",
              "      <td>0.33</td>\n",
              "      <td>4</td>\n",
              "      <td>H</td>\n",
              "      <td>IF</td>\n",
              "      <td>61.9</td>\n",
              "      <td>55.0</td>\n",
              "      <td>4.44</td>\n",
              "      <td>4.42</td>\n",
              "      <td>2.74</td>\n",
              "      <td>1114</td>\n",
              "    </tr>\n",
              "    <tr>\n",
              "      <th>26964</th>\n",
              "      <td>0.51</td>\n",
              "      <td>3</td>\n",
              "      <td>E</td>\n",
              "      <td>VS2</td>\n",
              "      <td>61.7</td>\n",
              "      <td>58.0</td>\n",
              "      <td>5.12</td>\n",
              "      <td>5.15</td>\n",
              "      <td>3.17</td>\n",
              "      <td>1656</td>\n",
              "    </tr>\n",
              "    <tr>\n",
              "      <th>26965</th>\n",
              "      <td>0.27</td>\n",
              "      <td>2</td>\n",
              "      <td>F</td>\n",
              "      <td>VVS2</td>\n",
              "      <td>61.8</td>\n",
              "      <td>56.0</td>\n",
              "      <td>4.19</td>\n",
              "      <td>4.20</td>\n",
              "      <td>2.60</td>\n",
              "      <td>682</td>\n",
              "    </tr>\n",
              "    <tr>\n",
              "      <th>26966</th>\n",
              "      <td>1.25</td>\n",
              "      <td>3</td>\n",
              "      <td>J</td>\n",
              "      <td>SI1</td>\n",
              "      <td>62.0</td>\n",
              "      <td>58.0</td>\n",
              "      <td>6.90</td>\n",
              "      <td>6.88</td>\n",
              "      <td>4.27</td>\n",
              "      <td>5166</td>\n",
              "    </tr>\n",
              "  </tbody>\n",
              "</table>\n",
              "<p>26967 rows × 10 columns</p>\n",
              "</div>"
            ],
            "text/plain": [
              "       carat  cut color clarity  depth  table     x     y     z  price\n",
              "0       0.30    4     E     SI1   62.1   58.0  4.27  4.29  2.66    499\n",
              "1       0.33    3     G      IF   60.8   58.0  4.42  4.46  2.70    984\n",
              "2       0.90    2     E    VVS2   62.2   60.0  6.04  6.12  3.78   6289\n",
              "3       0.42    4     F     VS1   61.6   56.0  4.82  4.80  2.96   1082\n",
              "4       0.31    4     F    VVS1   60.4   59.0  4.35  4.43  2.65    779\n",
              "...      ...  ...   ...     ...    ...    ...   ...   ...   ...    ...\n",
              "26962   1.11    3     G     SI1   62.3   58.0  6.61  6.52  4.09   5408\n",
              "26963   0.33    4     H      IF   61.9   55.0  4.44  4.42  2.74   1114\n",
              "26964   0.51    3     E     VS2   61.7   58.0  5.12  5.15  3.17   1656\n",
              "26965   0.27    2     F    VVS2   61.8   56.0  4.19  4.20  2.60    682\n",
              "26966   1.25    3     J     SI1   62.0   58.0  6.90  6.88  4.27   5166\n",
              "\n",
              "[26967 rows x 10 columns]"
            ]
          },
          "metadata": {
            "tags": []
          },
          "execution_count": 107
        }
      ]
    },
    {
      "cell_type": "code",
      "metadata": {
        "colab": {
          "base_uri": "https://localhost:8080/"
        },
        "id": "Gz0x70Q7jjxd",
        "outputId": "10dc6f24-3f43-4203-8ca8-97b4759555c8"
      },
      "source": [
        "df['cut'].value_counts()"
      ],
      "execution_count": 108,
      "outputs": [
        {
          "output_type": "execute_result",
          "data": {
            "text/plain": [
              "4    10816\n",
              "3     6899\n",
              "2     6030\n",
              "1     2441\n",
              "0      781\n",
              "Name: cut, dtype: int64"
            ]
          },
          "metadata": {
            "tags": []
          },
          "execution_count": 108
        }
      ]
    },
    {
      "cell_type": "code",
      "metadata": {
        "colab": {
          "base_uri": "https://localhost:8080/",
          "height": 619
        },
        "id": "7gt2iGsDFyqs",
        "outputId": "4b3b7a58-96ed-4ba0-cbfa-0182b4dad4f7"
      },
      "source": [
        "fig, ax = plt.subplots(figsize=(10,10))\n",
        "data = df.groupby('cut')[['price']].nunique()\n",
        "data = data.reset_index()\n",
        "sns.barplot(x = data.cut,y=data.price,ax=ax)\n",
        "plt.xticks(rotation=90)\n",
        "plt.xlabel('cut')"
      ],
      "execution_count": 156,
      "outputs": [
        {
          "output_type": "execute_result",
          "data": {
            "text/plain": [
              "Text(0.5, 0, 'cut')"
            ]
          },
          "metadata": {
            "tags": []
          },
          "execution_count": 156
        },
        {
          "output_type": "display_data",
          "data": {
            "image/png": "[encoded data removed]",
            "text/plain": [
              "<Figure size 720x720 with 1 Axes>"
            ]
          },
          "metadata": {
            "tags": [],
            "needs_background": "light"
          }
        }
      ]
    },
    {
      "cell_type": "code",
      "metadata": {
        "id": "eFZRsL0jjsFH"
      },
      "source": [
        "e = LabelEncoder()\n",
        "def encode(df,variable):\n",
        "  df[variable] = e.fit_transform(df[variable])"
      ],
      "execution_count": 109,
      "outputs": []
    },
    {
      "cell_type": "code",
      "metadata": {
        "id": "pbF6poC_k-7Q"
      },
      "source": [
        "encode(df,'color')\n",
        "encode(df,'clarity')"
      ],
      "execution_count": 110,
      "outputs": []
    },
    {
      "cell_type": "code",
      "metadata": {
        "colab": {
          "base_uri": "https://localhost:8080/",
          "height": 619
        },
        "id": "21qGrmt3GShv",
        "outputId": "8de4c57f-8aaa-4e4e-be18-bad9354a2ffe"
      },
      "source": [
        "fig, ax = plt.subplots(figsize=(10,10))\n",
        "data = df.groupby('color')[['price']].nunique()\n",
        "data = data.reset_index()\n",
        "sns.barplot(x = data.color,y=data.price,ax=ax)\n",
        "plt.xticks(rotation=90)\n",
        "plt.xlabel('color')"
      ],
      "execution_count": 157,
      "outputs": [
        {
          "output_type": "execute_result",
          "data": {
            "text/plain": [
              "Text(0.5, 0, 'color')"
            ]
          },
          "metadata": {
            "tags": []
          },
          "execution_count": 157
        },
        {
          "output_type": "display_data",
          "data": {
            "image/png": "[encoded data removed]",
            "text/plain": [
              "<Figure size 720x720 with 1 Axes>"
            ]
          },
          "metadata": {
            "tags": [],
            "needs_background": "light"
          }
        }
      ]
    },
    {
      "cell_type": "code",
      "metadata": {
        "colab": {
          "base_uri": "https://localhost:8080/",
          "height": 619
        },
        "id": "L8VLz3ydGUPU",
        "outputId": "0db4a4b9-19ea-40ed-d802-0796d269c1cc"
      },
      "source": [
        "fig, ax = plt.subplots(figsize=(10,10))\n",
        "data = df.groupby('clarity')[['price']].nunique()\n",
        "data = data.reset_index()\n",
        "sns.barplot(x = data.clarity,y=data.price,ax=ax)\n",
        "plt.xticks(rotation=90)\n",
        "plt.xlabel('clarity')"
      ],
      "execution_count": 158,
      "outputs": [
        {
          "output_type": "execute_result",
          "data": {
            "text/plain": [
              "Text(0.5, 0, 'clarity')"
            ]
          },
          "metadata": {
            "tags": []
          },
          "execution_count": 158
        },
        {
          "output_type": "display_data",
          "data": {
            "image/png": "[encoded data removed]",
            "text/plain": [
              "<Figure size 720x720 with 1 Axes>"
            ]
          },
          "metadata": {
            "tags": [],
            "needs_background": "light"
          }
        }
      ]
    },
    {
      "cell_type": "code",
      "metadata": {
        "colab": {
          "base_uri": "https://localhost:8080/",
          "height": 415
        },
        "id": "_pd0zXhilGzh",
        "outputId": "e05f94fc-1fef-4563-b175-9ff06b11f9ba"
      },
      "source": [
        "df"
      ],
      "execution_count": 111,
      "outputs": [
        {
          "output_type": "execute_result",
          "data": {
            "text/html": [
              "<div>\n",
              "<style scoped>\n",
              "    .dataframe tbody tr th:only-of-type {\n",
              "        vertical-align: middle;\n",
              "    }\n",
              "\n",
              "    .dataframe tbody tr th {\n",
              "        vertical-align: top;\n",
              "    }\n",
              "\n",
              "    .dataframe thead th {\n",
              "        text-align: right;\n",
              "    }\n",
              "</style>\n",
              "<table border=\"1\" class=\"dataframe\">\n",
              "  <thead>\n",
              "    <tr style=\"text-align: right;\">\n",
              "      <th></th>\n",
              "      <th>carat</th>\n",
              "      <th>cut</th>\n",
              "      <th>color</th>\n",
              "      <th>clarity</th>\n",
              "      <th>depth</th>\n",
              "      <th>table</th>\n",
              "      <th>x</th>\n",
              "      <th>y</th>\n",
              "      <th>z</th>\n",
              "      <th>price</th>\n",
              "    </tr>\n",
              "  </thead>\n",
              "  <tbody>\n",
              "    <tr>\n",
              "      <th>0</th>\n",
              "      <td>0.30</td>\n",
              "      <td>4</td>\n",
              "      <td>1</td>\n",
              "      <td>2</td>\n",
              "      <td>62.1</td>\n",
              "      <td>58.0</td>\n",
              "      <td>4.27</td>\n",
              "      <td>4.29</td>\n",
              "      <td>2.66</td>\n",
              "      <td>499</td>\n",
              "    </tr>\n",
              "    <tr>\n",
              "      <th>1</th>\n",
              "      <td>0.33</td>\n",
              "      <td>3</td>\n",
              "      <td>3</td>\n",
              "      <td>1</td>\n",
              "      <td>60.8</td>\n",
              "      <td>58.0</td>\n",
              "      <td>4.42</td>\n",
              "      <td>4.46</td>\n",
              "      <td>2.70</td>\n",
              "      <td>984</td>\n",
              "    </tr>\n",
              "    <tr>\n",
              "      <th>2</th>\n",
              "      <td>0.90</td>\n",
              "      <td>2</td>\n",
              "      <td>1</td>\n",
              "      <td>7</td>\n",
              "      <td>62.2</td>\n",
              "      <td>60.0</td>\n",
              "      <td>6.04</td>\n",
              "      <td>6.12</td>\n",
              "      <td>3.78</td>\n",
              "      <td>6289</td>\n",
              "    </tr>\n",
              "    <tr>\n",
              "      <th>3</th>\n",
              "      <td>0.42</td>\n",
              "      <td>4</td>\n",
              "      <td>2</td>\n",
              "      <td>4</td>\n",
              "      <td>61.6</td>\n",
              "      <td>56.0</td>\n",
              "      <td>4.82</td>\n",
              "      <td>4.80</td>\n",
              "      <td>2.96</td>\n",
              "      <td>1082</td>\n",
              "    </tr>\n",
              "    <tr>\n",
              "      <th>4</th>\n",
              "      <td>0.31</td>\n",
              "      <td>4</td>\n",
              "      <td>2</td>\n",
              "      <td>6</td>\n",
              "      <td>60.4</td>\n",
              "      <td>59.0</td>\n",
              "      <td>4.35</td>\n",
              "      <td>4.43</td>\n",
              "      <td>2.65</td>\n",
              "      <td>779</td>\n",
              "    </tr>\n",
              "    <tr>\n",
              "      <th>...</th>\n",
              "      <td>...</td>\n",
              "      <td>...</td>\n",
              "      <td>...</td>\n",
              "      <td>...</td>\n",
              "      <td>...</td>\n",
              "      <td>...</td>\n",
              "      <td>...</td>\n",
              "      <td>...</td>\n",
              "      <td>...</td>\n",
              "      <td>...</td>\n",
              "    </tr>\n",
              "    <tr>\n",
              "      <th>26962</th>\n",
              "      <td>1.11</td>\n",
              "      <td>3</td>\n",
              "      <td>3</td>\n",
              "      <td>2</td>\n",
              "      <td>62.3</td>\n",
              "      <td>58.0</td>\n",
              "      <td>6.61</td>\n",
              "      <td>6.52</td>\n",
              "      <td>4.09</td>\n",
              "      <td>5408</td>\n",
              "    </tr>\n",
              "    <tr>\n",
              "      <th>26963</th>\n",
              "      <td>0.33</td>\n",
              "      <td>4</td>\n",
              "      <td>4</td>\n",
              "      <td>1</td>\n",
              "      <td>61.9</td>\n",
              "      <td>55.0</td>\n",
              "      <td>4.44</td>\n",
              "      <td>4.42</td>\n",
              "      <td>2.74</td>\n",
              "      <td>1114</td>\n",
              "    </tr>\n",
              "    <tr>\n",
              "      <th>26964</th>\n",
              "      <td>0.51</td>\n",
              "      <td>3</td>\n",
              "      <td>1</td>\n",
              "      <td>5</td>\n",
              "      <td>61.7</td>\n",
              "      <td>58.0</td>\n",
              "      <td>5.12</td>\n",
              "      <td>5.15</td>\n",
              "      <td>3.17</td>\n",
              "      <td>1656</td>\n",
              "    </tr>\n",
              "    <tr>\n",
              "      <th>26965</th>\n",
              "      <td>0.27</td>\n",
              "      <td>2</td>\n",
              "      <td>2</td>\n",
              "      <td>7</td>\n",
              "      <td>61.8</td>\n",
              "      <td>56.0</td>\n",
              "      <td>4.19</td>\n",
              "      <td>4.20</td>\n",
              "      <td>2.60</td>\n",
              "      <td>682</td>\n",
              "    </tr>\n",
              "    <tr>\n",
              "      <th>26966</th>\n",
              "      <td>1.25</td>\n",
              "      <td>3</td>\n",
              "      <td>6</td>\n",
              "      <td>2</td>\n",
              "      <td>62.0</td>\n",
              "      <td>58.0</td>\n",
              "      <td>6.90</td>\n",
              "      <td>6.88</td>\n",
              "      <td>4.27</td>\n",
              "      <td>5166</td>\n",
              "    </tr>\n",
              "  </tbody>\n",
              "</table>\n",
              "<p>26967 rows × 10 columns</p>\n",
              "</div>"
            ],
            "text/plain": [
              "       carat  cut  color  clarity  depth  table     x     y     z  price\n",
              "0       0.30    4      1        2   62.1   58.0  4.27  4.29  2.66    499\n",
              "1       0.33    3      3        1   60.8   58.0  4.42  4.46  2.70    984\n",
              "2       0.90    2      1        7   62.2   60.0  6.04  6.12  3.78   6289\n",
              "3       0.42    4      2        4   61.6   56.0  4.82  4.80  2.96   1082\n",
              "4       0.31    4      2        6   60.4   59.0  4.35  4.43  2.65    779\n",
              "...      ...  ...    ...      ...    ...    ...   ...   ...   ...    ...\n",
              "26962   1.11    3      3        2   62.3   58.0  6.61  6.52  4.09   5408\n",
              "26963   0.33    4      4        1   61.9   55.0  4.44  4.42  2.74   1114\n",
              "26964   0.51    3      1        5   61.7   58.0  5.12  5.15  3.17   1656\n",
              "26965   0.27    2      2        7   61.8   56.0  4.19  4.20  2.60    682\n",
              "26966   1.25    3      6        2   62.0   58.0  6.90  6.88  4.27   5166\n",
              "\n",
              "[26967 rows x 10 columns]"
            ]
          },
          "metadata": {
            "tags": []
          },
          "execution_count": 111
        }
      ]
    },
    {
      "cell_type": "code",
      "metadata": {
        "colab": {
          "base_uri": "https://localhost:8080/"
        },
        "id": "-sJDCTIjn3lV",
        "outputId": "15da48af-a8ee-4820-8a10-2bb8b87cbc36"
      },
      "source": [
        "df.isnull().sum()"
      ],
      "execution_count": 112,
      "outputs": [
        {
          "output_type": "execute_result",
          "data": {
            "text/plain": [
              "carat        0\n",
              "cut          0\n",
              "color        0\n",
              "clarity      0\n",
              "depth      697\n",
              "table        0\n",
              "x            0\n",
              "y            0\n",
              "z            0\n",
              "price        0\n",
              "dtype: int64"
            ]
          },
          "metadata": {
            "tags": []
          },
          "execution_count": 112
        }
      ]
    },
    {
      "cell_type": "code",
      "metadata": {
        "id": "FuL54SSrlNAg"
      },
      "source": [
        "def impute_nan(df,variable,median):\n",
        "    df[variable+\"_median\"]=df[variable].fillna(median)"
      ],
      "execution_count": 113,
      "outputs": []
    },
    {
      "cell_type": "code",
      "metadata": {
        "id": "RVzrw4pEnvS2"
      },
      "source": [
        "impute_nan(df,'depth',df.depth.median())"
      ],
      "execution_count": 114,
      "outputs": []
    },
    {
      "cell_type": "code",
      "metadata": {
        "colab": {
          "base_uri": "https://localhost:8080/",
          "height": 415
        },
        "id": "XMWYyQ-noYAI",
        "outputId": "26e8afd0-d7f9-40f3-cf27-c6047b834b70"
      },
      "source": [
        "df"
      ],
      "execution_count": 115,
      "outputs": [
        {
          "output_type": "execute_result",
          "data": {
            "text/html": [
              "<div>\n",
              "<style scoped>\n",
              "    .dataframe tbody tr th:only-of-type {\n",
              "        vertical-align: middle;\n",
              "    }\n",
              "\n",
              "    .dataframe tbody tr th {\n",
              "        vertical-align: top;\n",
              "    }\n",
              "\n",
              "    .dataframe thead th {\n",
              "        text-align: right;\n",
              "    }\n",
              "</style>\n",
              "<table border=\"1\" class=\"dataframe\">\n",
              "  <thead>\n",
              "    <tr style=\"text-align: right;\">\n",
              "      <th></th>\n",
              "      <th>carat</th>\n",
              "      <th>cut</th>\n",
              "      <th>color</th>\n",
              "      <th>clarity</th>\n",
              "      <th>depth</th>\n",
              "      <th>table</th>\n",
              "      <th>x</th>\n",
              "      <th>y</th>\n",
              "      <th>z</th>\n",
              "      <th>price</th>\n",
              "      <th>depth_median</th>\n",
              "    </tr>\n",
              "  </thead>\n",
              "  <tbody>\n",
              "    <tr>\n",
              "      <th>0</th>\n",
              "      <td>0.30</td>\n",
              "      <td>4</td>\n",
              "      <td>1</td>\n",
              "      <td>2</td>\n",
              "      <td>62.1</td>\n",
              "      <td>58.0</td>\n",
              "      <td>4.27</td>\n",
              "      <td>4.29</td>\n",
              "      <td>2.66</td>\n",
              "      <td>499</td>\n",
              "      <td>62.1</td>\n",
              "    </tr>\n",
              "    <tr>\n",
              "      <th>1</th>\n",
              "      <td>0.33</td>\n",
              "      <td>3</td>\n",
              "      <td>3</td>\n",
              "      <td>1</td>\n",
              "      <td>60.8</td>\n",
              "      <td>58.0</td>\n",
              "      <td>4.42</td>\n",
              "      <td>4.46</td>\n",
              "      <td>2.70</td>\n",
              "      <td>984</td>\n",
              "      <td>60.8</td>\n",
              "    </tr>\n",
              "    <tr>\n",
              "      <th>2</th>\n",
              "      <td>0.90</td>\n",
              "      <td>2</td>\n",
              "      <td>1</td>\n",
              "      <td>7</td>\n",
              "      <td>62.2</td>\n",
              "      <td>60.0</td>\n",
              "      <td>6.04</td>\n",
              "      <td>6.12</td>\n",
              "      <td>3.78</td>\n",
              "      <td>6289</td>\n",
              "      <td>62.2</td>\n",
              "    </tr>\n",
              "    <tr>\n",
              "      <th>3</th>\n",
              "      <td>0.42</td>\n",
              "      <td>4</td>\n",
              "      <td>2</td>\n",
              "      <td>4</td>\n",
              "      <td>61.6</td>\n",
              "      <td>56.0</td>\n",
              "      <td>4.82</td>\n",
              "      <td>4.80</td>\n",
              "      <td>2.96</td>\n",
              "      <td>1082</td>\n",
              "      <td>61.6</td>\n",
              "    </tr>\n",
              "    <tr>\n",
              "      <th>4</th>\n",
              "      <td>0.31</td>\n",
              "      <td>4</td>\n",
              "      <td>2</td>\n",
              "      <td>6</td>\n",
              "      <td>60.4</td>\n",
              "      <td>59.0</td>\n",
              "      <td>4.35</td>\n",
              "      <td>4.43</td>\n",
              "      <td>2.65</td>\n",
              "      <td>779</td>\n",
              "      <td>60.4</td>\n",
              "    </tr>\n",
              "    <tr>\n",
              "      <th>...</th>\n",
              "      <td>...</td>\n",
              "      <td>...</td>\n",
              "      <td>...</td>\n",
              "      <td>...</td>\n",
              "      <td>...</td>\n",
              "      <td>...</td>\n",
              "      <td>...</td>\n",
              "      <td>...</td>\n",
              "      <td>...</td>\n",
              "      <td>...</td>\n",
              "      <td>...</td>\n",
              "    </tr>\n",
              "    <tr>\n",
              "      <th>26962</th>\n",
              "      <td>1.11</td>\n",
              "      <td>3</td>\n",
              "      <td>3</td>\n",
              "      <td>2</td>\n",
              "      <td>62.3</td>\n",
              "      <td>58.0</td>\n",
              "      <td>6.61</td>\n",
              "      <td>6.52</td>\n",
              "      <td>4.09</td>\n",
              "      <td>5408</td>\n",
              "      <td>62.3</td>\n",
              "    </tr>\n",
              "    <tr>\n",
              "      <th>26963</th>\n",
              "      <td>0.33</td>\n",
              "      <td>4</td>\n",
              "      <td>4</td>\n",
              "      <td>1</td>\n",
              "      <td>61.9</td>\n",
              "      <td>55.0</td>\n",
              "      <td>4.44</td>\n",
              "      <td>4.42</td>\n",
              "      <td>2.74</td>\n",
              "      <td>1114</td>\n",
              "      <td>61.9</td>\n",
              "    </tr>\n",
              "    <tr>\n",
              "      <th>26964</th>\n",
              "      <td>0.51</td>\n",
              "      <td>3</td>\n",
              "      <td>1</td>\n",
              "      <td>5</td>\n",
              "      <td>61.7</td>\n",
              "      <td>58.0</td>\n",
              "      <td>5.12</td>\n",
              "      <td>5.15</td>\n",
              "      <td>3.17</td>\n",
              "      <td>1656</td>\n",
              "      <td>61.7</td>\n",
              "    </tr>\n",
              "    <tr>\n",
              "      <th>26965</th>\n",
              "      <td>0.27</td>\n",
              "      <td>2</td>\n",
              "      <td>2</td>\n",
              "      <td>7</td>\n",
              "      <td>61.8</td>\n",
              "      <td>56.0</td>\n",
              "      <td>4.19</td>\n",
              "      <td>4.20</td>\n",
              "      <td>2.60</td>\n",
              "      <td>682</td>\n",
              "      <td>61.8</td>\n",
              "    </tr>\n",
              "    <tr>\n",
              "      <th>26966</th>\n",
              "      <td>1.25</td>\n",
              "      <td>3</td>\n",
              "      <td>6</td>\n",
              "      <td>2</td>\n",
              "      <td>62.0</td>\n",
              "      <td>58.0</td>\n",
              "      <td>6.90</td>\n",
              "      <td>6.88</td>\n",
              "      <td>4.27</td>\n",
              "      <td>5166</td>\n",
              "      <td>62.0</td>\n",
              "    </tr>\n",
              "  </tbody>\n",
              "</table>\n",
              "<p>26967 rows × 11 columns</p>\n",
              "</div>"
            ],
            "text/plain": [
              "       carat  cut  color  clarity  depth  ...     x     y     z  price  depth_median\n",
              "0       0.30    4      1        2   62.1  ...  4.27  4.29  2.66    499          62.1\n",
              "1       0.33    3      3        1   60.8  ...  4.42  4.46  2.70    984          60.8\n",
              "2       0.90    2      1        7   62.2  ...  6.04  6.12  3.78   6289          62.2\n",
              "3       0.42    4      2        4   61.6  ...  4.82  4.80  2.96   1082          61.6\n",
              "4       0.31    4      2        6   60.4  ...  4.35  4.43  2.65    779          60.4\n",
              "...      ...  ...    ...      ...    ...  ...   ...   ...   ...    ...           ...\n",
              "26962   1.11    3      3        2   62.3  ...  6.61  6.52  4.09   5408          62.3\n",
              "26963   0.33    4      4        1   61.9  ...  4.44  4.42  2.74   1114          61.9\n",
              "26964   0.51    3      1        5   61.7  ...  5.12  5.15  3.17   1656          61.7\n",
              "26965   0.27    2      2        7   61.8  ...  4.19  4.20  2.60    682          61.8\n",
              "26966   1.25    3      6        2   62.0  ...  6.90  6.88  4.27   5166          62.0\n",
              "\n",
              "[26967 rows x 11 columns]"
            ]
          },
          "metadata": {
            "tags": []
          },
          "execution_count": 115
        }
      ]
    },
    {
      "cell_type": "code",
      "metadata": {
        "colab": {
          "base_uri": "https://localhost:8080/",
          "height": 415
        },
        "id": "GJGLr0RKofu7",
        "outputId": "71def20d-5040-4945-d2a8-621da91cd9a3"
      },
      "source": [
        "df.drop('depth',axis=1,inplace=True)\n",
        "df"
      ],
      "execution_count": 116,
      "outputs": [
        {
          "output_type": "execute_result",
          "data": {
            "text/html": [
              "<div>\n",
              "<style scoped>\n",
              "    .dataframe tbody tr th:only-of-type {\n",
              "        vertical-align: middle;\n",
              "    }\n",
              "\n",
              "    .dataframe tbody tr th {\n",
              "        vertical-align: top;\n",
              "    }\n",
              "\n",
              "    .dataframe thead th {\n",
              "        text-align: right;\n",
              "    }\n",
              "</style>\n",
              "<table border=\"1\" class=\"dataframe\">\n",
              "  <thead>\n",
              "    <tr style=\"text-align: right;\">\n",
              "      <th></th>\n",
              "      <th>carat</th>\n",
              "      <th>cut</th>\n",
              "      <th>color</th>\n",
              "      <th>clarity</th>\n",
              "      <th>table</th>\n",
              "      <th>x</th>\n",
              "      <th>y</th>\n",
              "      <th>z</th>\n",
              "      <th>price</th>\n",
              "      <th>depth_median</th>\n",
              "    </tr>\n",
              "  </thead>\n",
              "  <tbody>\n",
              "    <tr>\n",
              "      <th>0</th>\n",
              "      <td>0.30</td>\n",
              "      <td>4</td>\n",
              "      <td>1</td>\n",
              "      <td>2</td>\n",
              "      <td>58.0</td>\n",
              "      <td>4.27</td>\n",
              "      <td>4.29</td>\n",
              "      <td>2.66</td>\n",
              "      <td>499</td>\n",
              "      <td>62.1</td>\n",
              "    </tr>\n",
              "    <tr>\n",
              "      <th>1</th>\n",
              "      <td>0.33</td>\n",
              "      <td>3</td>\n",
              "      <td>3</td>\n",
              "      <td>1</td>\n",
              "      <td>58.0</td>\n",
              "      <td>4.42</td>\n",
              "      <td>4.46</td>\n",
              "      <td>2.70</td>\n",
              "      <td>984</td>\n",
              "      <td>60.8</td>\n",
              "    </tr>\n",
              "    <tr>\n",
              "      <th>2</th>\n",
              "      <td>0.90</td>\n",
              "      <td>2</td>\n",
              "      <td>1</td>\n",
              "      <td>7</td>\n",
              "      <td>60.0</td>\n",
              "      <td>6.04</td>\n",
              "      <td>6.12</td>\n",
              "      <td>3.78</td>\n",
              "      <td>6289</td>\n",
              "      <td>62.2</td>\n",
              "    </tr>\n",
              "    <tr>\n",
              "      <th>3</th>\n",
              "      <td>0.42</td>\n",
              "      <td>4</td>\n",
              "      <td>2</td>\n",
              "      <td>4</td>\n",
              "      <td>56.0</td>\n",
              "      <td>4.82</td>\n",
              "      <td>4.80</td>\n",
              "      <td>2.96</td>\n",
              "      <td>1082</td>\n",
              "      <td>61.6</td>\n",
              "    </tr>\n",
              "    <tr>\n",
              "      <th>4</th>\n",
              "      <td>0.31</td>\n",
              "      <td>4</td>\n",
              "      <td>2</td>\n",
              "      <td>6</td>\n",
              "      <td>59.0</td>\n",
              "      <td>4.35</td>\n",
              "      <td>4.43</td>\n",
              "      <td>2.65</td>\n",
              "      <td>779</td>\n",
              "      <td>60.4</td>\n",
              "    </tr>\n",
              "    <tr>\n",
              "      <th>...</th>\n",
              "      <td>...</td>\n",
              "      <td>...</td>\n",
              "      <td>...</td>\n",
              "      <td>...</td>\n",
              "      <td>...</td>\n",
              "      <td>...</td>\n",
              "      <td>...</td>\n",
              "      <td>...</td>\n",
              "      <td>...</td>\n",
              "      <td>...</td>\n",
              "    </tr>\n",
              "    <tr>\n",
              "      <th>26962</th>\n",
              "      <td>1.11</td>\n",
              "      <td>3</td>\n",
              "      <td>3</td>\n",
              "      <td>2</td>\n",
              "      <td>58.0</td>\n",
              "      <td>6.61</td>\n",
              "      <td>6.52</td>\n",
              "      <td>4.09</td>\n",
              "      <td>5408</td>\n",
              "      <td>62.3</td>\n",
              "    </tr>\n",
              "    <tr>\n",
              "      <th>26963</th>\n",
              "      <td>0.33</td>\n",
              "      <td>4</td>\n",
              "      <td>4</td>\n",
              "      <td>1</td>\n",
              "      <td>55.0</td>\n",
              "      <td>4.44</td>\n",
              "      <td>4.42</td>\n",
              "      <td>2.74</td>\n",
              "      <td>1114</td>\n",
              "      <td>61.9</td>\n",
              "    </tr>\n",
              "    <tr>\n",
              "      <th>26964</th>\n",
              "      <td>0.51</td>\n",
              "      <td>3</td>\n",
              "      <td>1</td>\n",
              "      <td>5</td>\n",
              "      <td>58.0</td>\n",
              "      <td>5.12</td>\n",
              "      <td>5.15</td>\n",
              "      <td>3.17</td>\n",
              "      <td>1656</td>\n",
              "      <td>61.7</td>\n",
              "    </tr>\n",
              "    <tr>\n",
              "      <th>26965</th>\n",
              "      <td>0.27</td>\n",
              "      <td>2</td>\n",
              "      <td>2</td>\n",
              "      <td>7</td>\n",
              "      <td>56.0</td>\n",
              "      <td>4.19</td>\n",
              "      <td>4.20</td>\n",
              "      <td>2.60</td>\n",
              "      <td>682</td>\n",
              "      <td>61.8</td>\n",
              "    </tr>\n",
              "    <tr>\n",
              "      <th>26966</th>\n",
              "      <td>1.25</td>\n",
              "      <td>3</td>\n",
              "      <td>6</td>\n",
              "      <td>2</td>\n",
              "      <td>58.0</td>\n",
              "      <td>6.90</td>\n",
              "      <td>6.88</td>\n",
              "      <td>4.27</td>\n",
              "      <td>5166</td>\n",
              "      <td>62.0</td>\n",
              "    </tr>\n",
              "  </tbody>\n",
              "</table>\n",
              "<p>26967 rows × 10 columns</p>\n",
              "</div>"
            ],
            "text/plain": [
              "       carat  cut  color  clarity  table     x     y     z  price  depth_median\n",
              "0       0.30    4      1        2   58.0  4.27  4.29  2.66    499          62.1\n",
              "1       0.33    3      3        1   58.0  4.42  4.46  2.70    984          60.8\n",
              "2       0.90    2      1        7   60.0  6.04  6.12  3.78   6289          62.2\n",
              "3       0.42    4      2        4   56.0  4.82  4.80  2.96   1082          61.6\n",
              "4       0.31    4      2        6   59.0  4.35  4.43  2.65    779          60.4\n",
              "...      ...  ...    ...      ...    ...   ...   ...   ...    ...           ...\n",
              "26962   1.11    3      3        2   58.0  6.61  6.52  4.09   5408          62.3\n",
              "26963   0.33    4      4        1   55.0  4.44  4.42  2.74   1114          61.9\n",
              "26964   0.51    3      1        5   58.0  5.12  5.15  3.17   1656          61.7\n",
              "26965   0.27    2      2        7   56.0  4.19  4.20  2.60    682          61.8\n",
              "26966   1.25    3      6        2   58.0  6.90  6.88  4.27   5166          62.0\n",
              "\n",
              "[26967 rows x 10 columns]"
            ]
          },
          "metadata": {
            "tags": []
          },
          "execution_count": 116
        }
      ]
    },
    {
      "cell_type": "code",
      "metadata": {
        "colab": {
          "base_uri": "https://localhost:8080/"
        },
        "id": "myA7ydtzCt0W",
        "outputId": "00d755ef-5b4b-4c58-e1c0-520d9734ac1f"
      },
      "source": [
        "df.isnull().sum()"
      ],
      "execution_count": 117,
      "outputs": [
        {
          "output_type": "execute_result",
          "data": {
            "text/plain": [
              "carat           0\n",
              "cut             0\n",
              "color           0\n",
              "clarity         0\n",
              "table           0\n",
              "x               0\n",
              "y               0\n",
              "z               0\n",
              "price           0\n",
              "depth_median    0\n",
              "dtype: int64"
            ]
          },
          "metadata": {
            "tags": []
          },
          "execution_count": 117
        }
      ]
    },
    {
      "cell_type": "code",
      "metadata": {
        "colab": {
          "base_uri": "https://localhost:8080/",
          "height": 894
        },
        "id": "eUTBONJTpH8V",
        "outputId": "4edb74e0-056a-49ca-983f-db2a749ac00e"
      },
      "source": [
        "fig, ax = plt.subplots(figsize=(15,15))\n",
        "sns.heatmap(df.corr(), cmap=\"YlGnBu\", annot=True,ax=ax)"
      ],
      "execution_count": 118,
      "outputs": [
        {
          "output_type": "execute_result",
          "data": {
            "text/plain": [
              "<matplotlib.axes._subplots.AxesSubplot at 0x7f255dbd92d0>"
            ]
          },
          "metadata": {
            "tags": []
          },
          "execution_count": 118
        },
        {
          "output_type": "display_data",
          "data": {
            "image/png": "[encoded data removed]",
            "text/plain": [
              "<Figure size 1080x1080 with 2 Axes>"
            ]
          },
          "metadata": {
            "tags": [],
            "needs_background": "light"
          }
        }
      ]
    },
    {
      "cell_type": "code",
      "metadata": {
        "colab": {
          "base_uri": "https://localhost:8080/",
          "height": 349
        },
        "id": "9glpM_q9IAwL",
        "outputId": "f1b7474d-3f10-4067-dd38-c81ea934f1e5"
      },
      "source": [
        "sns.boxplot(df.carat)"
      ],
      "execution_count": 119,
      "outputs": [
        {
          "output_type": "stream",
          "text": [
            "/usr/local/lib/python3.7/dist-packages/seaborn/_decorators.py:43: FutureWarning: Pass the following variable as a keyword arg: x. From version 0.12, the only valid positional argument will be `data`, and passing other arguments without an explicit keyword will result in an error or misinterpretation.\n",
            "  FutureWarning\n"
          ],
          "name": "stderr"
        },
        {
          "output_type": "execute_result",
          "data": {
            "text/plain": [
              "<matplotlib.axes._subplots.AxesSubplot at 0x7f255e03aa10>"
            ]
          },
          "metadata": {
            "tags": []
          },
          "execution_count": 119
        },
        {
          "output_type": "display_data",
          "data": {
            "image/png": "[encoded data removed]",
            "text/plain": [
              "<Figure size 432x288 with 1 Axes>"
            ]
          },
          "metadata": {
            "tags": [],
            "needs_background": "light"
          }
        }
      ]
    },
    {
      "cell_type": "code",
      "metadata": {
        "colab": {
          "base_uri": "https://localhost:8080/"
        },
        "id": "KgeBIkQeJTBS",
        "outputId": "872f0d13-2e26-49bf-f55b-edb2b22e32a2"
      },
      "source": [
        "IQR=df.carat.quantile(0.75)-df.carat.quantile(0.25)\n",
        "lower_bridge=df.carat.quantile(0.25)-(IQR*1.5)\n",
        "upper_bridge=df.carat.quantile(0.75)+(IQR*1.5)\n",
        "print(lower_bridge, upper_bridge)"
      ],
      "execution_count": 120,
      "outputs": [
        {
          "output_type": "stream",
          "text": [
            "-0.5750000000000001 2.0250000000000004\n"
          ],
          "name": "stdout"
        }
      ]
    },
    {
      "cell_type": "code",
      "metadata": {
        "id": "78B1_bukJZKy"
      },
      "source": [
        "df.loc[df['carat']>=2.025,'carat']=2.025\n",
        "df.loc[df['carat']<=-0.57,'carat']=-0.57"
      ],
      "execution_count": 121,
      "outputs": []
    },
    {
      "cell_type": "code",
      "metadata": {
        "colab": {
          "base_uri": "https://localhost:8080/",
          "height": 349
        },
        "id": "OqYdPPx3Jn66",
        "outputId": "6ca29426-db88-4f88-f209-9e67ddbcc982"
      },
      "source": [
        "sns.boxplot(df.carat)"
      ],
      "execution_count": 122,
      "outputs": [
        {
          "output_type": "stream",
          "text": [
            "/usr/local/lib/python3.7/dist-packages/seaborn/_decorators.py:43: FutureWarning: Pass the following variable as a keyword arg: x. From version 0.12, the only valid positional argument will be `data`, and passing other arguments without an explicit keyword will result in an error or misinterpretation.\n",
            "  FutureWarning\n"
          ],
          "name": "stderr"
        },
        {
          "output_type": "execute_result",
          "data": {
            "text/plain": [
              "<matplotlib.axes._subplots.AxesSubplot at 0x7f255da2bed0>"
            ]
          },
          "metadata": {
            "tags": []
          },
          "execution_count": 122
        },
        {
          "output_type": "display_data",
          "data": {
            "image/png": "[encoded data removed]",
            "text/plain": [
              "<Figure size 432x288 with 1 Axes>"
            ]
          },
          "metadata": {
            "tags": [],
            "needs_background": "light"
          }
        }
      ]
    },
    {
      "cell_type": "code",
      "metadata": {
        "colab": {
          "base_uri": "https://localhost:8080/",
          "height": 349
        },
        "id": "po-h3dSsIMAF",
        "outputId": "dd34d9a5-e16d-46a5-fa86-8318c42d6e56"
      },
      "source": [
        "sns.boxplot(df.table)"
      ],
      "execution_count": 123,
      "outputs": [
        {
          "output_type": "stream",
          "text": [
            "/usr/local/lib/python3.7/dist-packages/seaborn/_decorators.py:43: FutureWarning: Pass the following variable as a keyword arg: x. From version 0.12, the only valid positional argument will be `data`, and passing other arguments without an explicit keyword will result in an error or misinterpretation.\n",
            "  FutureWarning\n"
          ],
          "name": "stderr"
        },
        {
          "output_type": "execute_result",
          "data": {
            "text/plain": [
              "<matplotlib.axes._subplots.AxesSubplot at 0x7f255d99b190>"
            ]
          },
          "metadata": {
            "tags": []
          },
          "execution_count": 123
        },
        {
          "output_type": "display_data",
          "data": {
            "image/png": "[encoded data removed]",
            "text/plain": [
              "<Figure size 432x288 with 1 Axes>"
            ]
          },
          "metadata": {
            "tags": [],
            "needs_background": "light"
          }
        }
      ]
    },
    {
      "cell_type": "code",
      "metadata": {
        "colab": {
          "base_uri": "https://localhost:8080/"
        },
        "id": "fbasRHi_C4lT",
        "outputId": "791246d6-9301-4dce-c345-60cf174cc20e"
      },
      "source": [
        "IQR=df.table.quantile(0.75)-df.table.quantile(0.25)\n",
        "lower_bridge=df.table.quantile(0.25)-(IQR*1.5)\n",
        "upper_bridge=df.table.quantile(0.75)+(IQR*1.5)\n",
        "print(lower_bridge, upper_bridge)"
      ],
      "execution_count": 124,
      "outputs": [
        {
          "output_type": "stream",
          "text": [
            "51.5 63.5\n"
          ],
          "name": "stdout"
        }
      ]
    },
    {
      "cell_type": "code",
      "metadata": {
        "id": "Srps4FuzC6YN"
      },
      "source": [
        "df.loc[df['table']>=63.5,'table']=63.5\n",
        "df.loc[df['table']<=51.5,'table']=51.5"
      ],
      "execution_count": 125,
      "outputs": []
    },
    {
      "cell_type": "code",
      "metadata": {
        "colab": {
          "base_uri": "https://localhost:8080/",
          "height": 349
        },
        "id": "diiGegGRDIDl",
        "outputId": "465f93e2-8cc5-42d3-f6b5-89bfad9b0d4f"
      },
      "source": [
        "sns.boxplot(df.table)"
      ],
      "execution_count": 126,
      "outputs": [
        {
          "output_type": "stream",
          "text": [
            "/usr/local/lib/python3.7/dist-packages/seaborn/_decorators.py:43: FutureWarning: Pass the following variable as a keyword arg: x. From version 0.12, the only valid positional argument will be `data`, and passing other arguments without an explicit keyword will result in an error or misinterpretation.\n",
            "  FutureWarning\n"
          ],
          "name": "stderr"
        },
        {
          "output_type": "execute_result",
          "data": {
            "text/plain": [
              "<matplotlib.axes._subplots.AxesSubplot at 0x7f255d8ff210>"
            ]
          },
          "metadata": {
            "tags": []
          },
          "execution_count": 126
        },
        {
          "output_type": "display_data",
          "data": {
            "image/png": "[encoded data removed]",
            "text/plain": [
              "<Figure size 432x288 with 1 Axes>"
            ]
          },
          "metadata": {
            "tags": [],
            "needs_background": "light"
          }
        }
      ]
    },
    {
      "cell_type": "code",
      "metadata": {
        "colab": {
          "base_uri": "https://localhost:8080/",
          "height": 349
        },
        "id": "gqTSIOojIYZC",
        "outputId": "86363f45-ad1e-4c2f-dcce-59e0bbe9b322"
      },
      "source": [
        "sns.boxplot(df.x)"
      ],
      "execution_count": 127,
      "outputs": [
        {
          "output_type": "stream",
          "text": [
            "/usr/local/lib/python3.7/dist-packages/seaborn/_decorators.py:43: FutureWarning: Pass the following variable as a keyword arg: x. From version 0.12, the only valid positional argument will be `data`, and passing other arguments without an explicit keyword will result in an error or misinterpretation.\n",
            "  FutureWarning\n"
          ],
          "name": "stderr"
        },
        {
          "output_type": "execute_result",
          "data": {
            "text/plain": [
              "<matplotlib.axes._subplots.AxesSubplot at 0x7f255d874c10>"
            ]
          },
          "metadata": {
            "tags": []
          },
          "execution_count": 127
        },
        {
          "output_type": "display_data",
          "data": {
            "image/png": "[encoded data removed]",
            "text/plain": [
              "<Figure size 432x288 with 1 Axes>"
            ]
          },
          "metadata": {
            "tags": [],
            "needs_background": "light"
          }
        }
      ]
    },
    {
      "cell_type": "code",
      "metadata": {
        "colab": {
          "base_uri": "https://localhost:8080/"
        },
        "id": "t3AgTxVMDLfc",
        "outputId": "2abe03db-ee41-48f6-f91f-bbcade32a6f6"
      },
      "source": [
        "IQR=df.x.quantile(0.75)-df.x.quantile(0.25)\n",
        "lower_bridge=df.x.quantile(0.25)-(IQR*1.5)\n",
        "upper_bridge=df.x.quantile(0.75)+(IQR*1.5)\n",
        "print(lower_bridge, upper_bridge)"
      ],
      "execution_count": 128,
      "outputs": [
        {
          "output_type": "stream",
          "text": [
            "1.9500000000000002 9.309999999999999\n"
          ],
          "name": "stdout"
        }
      ]
    },
    {
      "cell_type": "code",
      "metadata": {
        "id": "ByTmbp7cDLCr"
      },
      "source": [
        "df.loc[df['x']>=9.30,'x']=9.30\n",
        "df.loc[df['x']<=1.95,'x']=1.95"
      ],
      "execution_count": 129,
      "outputs": []
    },
    {
      "cell_type": "code",
      "metadata": {
        "colab": {
          "base_uri": "https://localhost:8080/",
          "height": 349
        },
        "id": "xmM7pZZlDKzj",
        "outputId": "8f3ac6b7-2a7d-4bdd-94a3-4dab5f7d4b29"
      },
      "source": [
        "sns.boxplot(df.x)"
      ],
      "execution_count": 130,
      "outputs": [
        {
          "output_type": "stream",
          "text": [
            "/usr/local/lib/python3.7/dist-packages/seaborn/_decorators.py:43: FutureWarning: Pass the following variable as a keyword arg: x. From version 0.12, the only valid positional argument will be `data`, and passing other arguments without an explicit keyword will result in an error or misinterpretation.\n",
            "  FutureWarning\n"
          ],
          "name": "stderr"
        },
        {
          "output_type": "execute_result",
          "data": {
            "text/plain": [
              "<matplotlib.axes._subplots.AxesSubplot at 0x7f255d84dd10>"
            ]
          },
          "metadata": {
            "tags": []
          },
          "execution_count": 130
        },
        {
          "output_type": "display_data",
          "data": {
            "image/png": "[encoded data removed]",
            "text/plain": [
              "<Figure size 432x288 with 1 Axes>"
            ]
          },
          "metadata": {
            "tags": [],
            "needs_background": "light"
          }
        }
      ]
    },
    {
      "cell_type": "code",
      "metadata": {
        "colab": {
          "base_uri": "https://localhost:8080/",
          "height": 349
        },
        "id": "_XnJ31BEIZi_",
        "outputId": "06b7a461-19b9-4a66-ce2b-0706ee9046f1"
      },
      "source": [
        "sns.boxplot(df.y)"
      ],
      "execution_count": 131,
      "outputs": [
        {
          "output_type": "stream",
          "text": [
            "/usr/local/lib/python3.7/dist-packages/seaborn/_decorators.py:43: FutureWarning: Pass the following variable as a keyword arg: x. From version 0.12, the only valid positional argument will be `data`, and passing other arguments without an explicit keyword will result in an error or misinterpretation.\n",
            "  FutureWarning\n"
          ],
          "name": "stderr"
        },
        {
          "output_type": "execute_result",
          "data": {
            "text/plain": [
              "<matplotlib.axes._subplots.AxesSubplot at 0x7f255d9b6c90>"
            ]
          },
          "metadata": {
            "tags": []
          },
          "execution_count": 131
        },
        {
          "output_type": "display_data",
          "data": {
            "image/png": "[encoded data removed]",
            "text/plain": [
              "<Figure size 432x288 with 1 Axes>"
            ]
          },
          "metadata": {
            "tags": [],
            "needs_background": "light"
          }
        }
      ]
    },
    {
      "cell_type": "code",
      "metadata": {
        "colab": {
          "base_uri": "https://localhost:8080/"
        },
        "id": "XDlIoxghDOca",
        "outputId": "9ec8389c-0bda-4352-9aa0-5b7008acd98a"
      },
      "source": [
        "IQR=df.y.quantile(0.75)-df.y.quantile(0.25)\n",
        "lower_bridge=df.y.quantile(0.25)-(IQR*1.5)\n",
        "upper_bridge=df.y.quantile(0.75)+(IQR*1.5)\n",
        "print(lower_bridge, upper_bridge)"
      ],
      "execution_count": 132,
      "outputs": [
        {
          "output_type": "stream",
          "text": [
            "1.9649999999999999 9.285\n"
          ],
          "name": "stdout"
        }
      ]
    },
    {
      "cell_type": "code",
      "metadata": {
        "id": "Xdy_mYxXDTBX"
      },
      "source": [
        "df.loc[df['y']>=9.285,'y']=9.285\n",
        "df.loc[df['y']<=1.964,'y']=1.964"
      ],
      "execution_count": 133,
      "outputs": []
    },
    {
      "cell_type": "code",
      "metadata": {
        "colab": {
          "base_uri": "https://localhost:8080/",
          "height": 349
        },
        "id": "65tM9dw6EBoo",
        "outputId": "95af0e95-2e31-43c8-ee5b-861afdf0b946"
      },
      "source": [
        "sns.boxplot(df.y)"
      ],
      "execution_count": 134,
      "outputs": [
        {
          "output_type": "stream",
          "text": [
            "/usr/local/lib/python3.7/dist-packages/seaborn/_decorators.py:43: FutureWarning: Pass the following variable as a keyword arg: x. From version 0.12, the only valid positional argument will be `data`, and passing other arguments without an explicit keyword will result in an error or misinterpretation.\n",
            "  FutureWarning\n"
          ],
          "name": "stderr"
        },
        {
          "output_type": "execute_result",
          "data": {
            "text/plain": [
              "<matplotlib.axes._subplots.AxesSubplot at 0x7f255d74a450>"
            ]
          },
          "metadata": {
            "tags": []
          },
          "execution_count": 134
        },
        {
          "output_type": "display_data",
          "data": {
            "image/png": "[encoded data removed]",
            "text/plain": [
              "<Figure size 432x288 with 1 Axes>"
            ]
          },
          "metadata": {
            "tags": [],
            "needs_background": "light"
          }
        }
      ]
    },
    {
      "cell_type": "code",
      "metadata": {
        "colab": {
          "base_uri": "https://localhost:8080/",
          "height": 349
        },
        "id": "yAocUcAYIaSb",
        "outputId": "616b48f6-4f9b-4da4-e867-fa9a4ea02be3"
      },
      "source": [
        "sns.boxplot(df.z)"
      ],
      "execution_count": 135,
      "outputs": [
        {
          "output_type": "stream",
          "text": [
            "/usr/local/lib/python3.7/dist-packages/seaborn/_decorators.py:43: FutureWarning: Pass the following variable as a keyword arg: x. From version 0.12, the only valid positional argument will be `data`, and passing other arguments without an explicit keyword will result in an error or misinterpretation.\n",
            "  FutureWarning\n"
          ],
          "name": "stderr"
        },
        {
          "output_type": "execute_result",
          "data": {
            "text/plain": [
              "<matplotlib.axes._subplots.AxesSubplot at 0x7f255d722f90>"
            ]
          },
          "metadata": {
            "tags": []
          },
          "execution_count": 135
        },
        {
          "output_type": "display_data",
          "data": {
            "image/png": "[encoded data removed]",
            "text/plain": [
              "<Figure size 432x288 with 1 Axes>"
            ]
          },
          "metadata": {
            "tags": [],
            "needs_background": "light"
          }
        }
      ]
    },
    {
      "cell_type": "code",
      "metadata": {
        "colab": {
          "base_uri": "https://localhost:8080/"
        },
        "id": "JkSAULtODPJM",
        "outputId": "efb387a5-07ab-40ab-a0c9-f17df2048179"
      },
      "source": [
        "IQR=df.z.quantile(0.75)-df.z.quantile(0.25)\n",
        "lower_bridge=df.z.quantile(0.25)-(IQR*1.5)\n",
        "upper_bridge=df.z.quantile(0.75)+(IQR*1.5)\n",
        "print(lower_bridge, upper_bridge)"
      ],
      "execution_count": 136,
      "outputs": [
        {
          "output_type": "stream",
          "text": [
            "1.1899999999999997 5.75\n"
          ],
          "name": "stdout"
        }
      ]
    },
    {
      "cell_type": "code",
      "metadata": {
        "id": "fYTvkz4nDTje"
      },
      "source": [
        "df.loc[df['z']>=5.75,'z']=5.75\n",
        "df.loc[df['z']<=1.18,'z']=1.18"
      ],
      "execution_count": 137,
      "outputs": []
    },
    {
      "cell_type": "code",
      "metadata": {
        "colab": {
          "base_uri": "https://localhost:8080/",
          "height": 349
        },
        "id": "EJR8wblzEbnx",
        "outputId": "d15a660e-7351-48a5-cde9-6576d3154c4c"
      },
      "source": [
        "sns.boxplot(df.z)"
      ],
      "execution_count": 139,
      "outputs": [
        {
          "output_type": "stream",
          "text": [
            "/usr/local/lib/python3.7/dist-packages/seaborn/_decorators.py:43: FutureWarning: Pass the following variable as a keyword arg: x. From version 0.12, the only valid positional argument will be `data`, and passing other arguments without an explicit keyword will result in an error or misinterpretation.\n",
            "  FutureWarning\n"
          ],
          "name": "stderr"
        },
        {
          "output_type": "execute_result",
          "data": {
            "text/plain": [
              "<matplotlib.axes._subplots.AxesSubplot at 0x7f255d5bc910>"
            ]
          },
          "metadata": {
            "tags": []
          },
          "execution_count": 139
        },
        {
          "output_type": "display_data",
          "data": {
            "image/png": "[encoded data removed]",
            "text/plain": [
              "<Figure size 432x288 with 1 Axes>"
            ]
          },
          "metadata": {
            "tags": [],
            "needs_background": "light"
          }
        }
      ]
    },
    {
      "cell_type": "code",
      "metadata": {
        "colab": {
          "base_uri": "https://localhost:8080/",
          "height": 350
        },
        "id": "tKqsZQQyIbF_",
        "outputId": "116ff36a-bc8d-47b6-e677-c6b73b72b406"
      },
      "source": [
        "sns.boxplot(df.depth_median)"
      ],
      "execution_count": 138,
      "outputs": [
        {
          "output_type": "stream",
          "text": [
            "/usr/local/lib/python3.7/dist-packages/seaborn/_decorators.py:43: FutureWarning: Pass the following variable as a keyword arg: x. From version 0.12, the only valid positional argument will be `data`, and passing other arguments without an explicit keyword will result in an error or misinterpretation.\n",
            "  FutureWarning\n"
          ],
          "name": "stderr"
        },
        {
          "output_type": "execute_result",
          "data": {
            "text/plain": [
              "<matplotlib.axes._subplots.AxesSubplot at 0x7f255d6918d0>"
            ]
          },
          "metadata": {
            "tags": []
          },
          "execution_count": 138
        },
        {
          "output_type": "display_data",
          "data": {
            "image/png": "[encoded data removed]",
            "text/plain": [
              "<Figure size 432x288 with 1 Axes>"
            ]
          },
          "metadata": {
            "tags": [],
            "needs_background": "light"
          }
        }
      ]
    },
    {
      "cell_type": "code",
      "metadata": {
        "colab": {
          "base_uri": "https://localhost:8080/"
        },
        "id": "F75TtyTrDQSr",
        "outputId": "46128c08-6e59-4f4b-cd9b-fea082447c3d"
      },
      "source": [
        "IQR=df.depth_median.quantile(0.75)-df.depth_median.quantile(0.25)\n",
        "lower_bridge=df.depth_median.quantile(0.25)-(IQR*1.5)\n",
        "upper_bridge=df.depth_median.quantile(0.75)+(IQR*1.5)\n",
        "print(lower_bridge, upper_bridge)"
      ],
      "execution_count": 140,
      "outputs": [
        {
          "output_type": "stream",
          "text": [
            "59.0 64.6\n"
          ],
          "name": "stdout"
        }
      ]
    },
    {
      "cell_type": "code",
      "metadata": {
        "id": "xztqYCWDDUYn"
      },
      "source": [
        "df.loc[df['depth_median']>=64.6,'depth_median']=64.6\n",
        "df.loc[df['depth_median']<=59.0,'depth_median']=59.0"
      ],
      "execution_count": 141,
      "outputs": []
    },
    {
      "cell_type": "code",
      "metadata": {
        "colab": {
          "base_uri": "https://localhost:8080/",
          "height": 350
        },
        "id": "b_Pae1qUEodb",
        "outputId": "d4824fe5-8428-4be6-9b6e-b09f1b9e24e6"
      },
      "source": [
        "sns.boxplot(df.depth_median)"
      ],
      "execution_count": 142,
      "outputs": [
        {
          "output_type": "stream",
          "text": [
            "/usr/local/lib/python3.7/dist-packages/seaborn/_decorators.py:43: FutureWarning: Pass the following variable as a keyword arg: x. From version 0.12, the only valid positional argument will be `data`, and passing other arguments without an explicit keyword will result in an error or misinterpretation.\n",
            "  FutureWarning\n"
          ],
          "name": "stderr"
        },
        {
          "output_type": "execute_result",
          "data": {
            "text/plain": [
              "<matplotlib.axes._subplots.AxesSubplot at 0x7f255d4f2610>"
            ]
          },
          "metadata": {
            "tags": []
          },
          "execution_count": 142
        },
        {
          "output_type": "display_data",
          "data": {
            "image/png": "[encoded data removed]",
            "text/plain": [
              "<Figure size 432x288 with 1 Axes>"
            ]
          },
          "metadata": {
            "tags": [],
            "needs_background": "light"
          }
        }
      ]
    },
    {
      "cell_type": "code",
      "metadata": {
        "colab": {
          "base_uri": "https://localhost:8080/",
          "height": 415
        },
        "id": "iclb074sEuFH",
        "outputId": "79c6edbf-c99c-41e1-c1f8-61d2af55f4f8"
      },
      "source": [
        "df"
      ],
      "execution_count": 145,
      "outputs": [
        {
          "output_type": "execute_result",
          "data": {
            "text/html": [
              "<div>\n",
              "<style scoped>\n",
              "    .dataframe tbody tr th:only-of-type {\n",
              "        vertical-align: middle;\n",
              "    }\n",
              "\n",
              "    .dataframe tbody tr th {\n",
              "        vertical-align: top;\n",
              "    }\n",
              "\n",
              "    .dataframe thead th {\n",
              "        text-align: right;\n",
              "    }\n",
              "</style>\n",
              "<table border=\"1\" class=\"dataframe\">\n",
              "  <thead>\n",
              "    <tr style=\"text-align: right;\">\n",
              "      <th></th>\n",
              "      <th>carat</th>\n",
              "      <th>cut</th>\n",
              "      <th>color</th>\n",
              "      <th>clarity</th>\n",
              "      <th>table</th>\n",
              "      <th>x</th>\n",
              "      <th>y</th>\n",
              "      <th>z</th>\n",
              "      <th>price</th>\n",
              "      <th>depth_median</th>\n",
              "    </tr>\n",
              "  </thead>\n",
              "  <tbody>\n",
              "    <tr>\n",
              "      <th>0</th>\n",
              "      <td>0.30</td>\n",
              "      <td>4</td>\n",
              "      <td>1</td>\n",
              "      <td>2</td>\n",
              "      <td>58.0</td>\n",
              "      <td>4.27</td>\n",
              "      <td>4.29</td>\n",
              "      <td>2.66</td>\n",
              "      <td>499</td>\n",
              "      <td>62.1</td>\n",
              "    </tr>\n",
              "    <tr>\n",
              "      <th>1</th>\n",
              "      <td>0.33</td>\n",
              "      <td>3</td>\n",
              "      <td>3</td>\n",
              "      <td>1</td>\n",
              "      <td>58.0</td>\n",
              "      <td>4.42</td>\n",
              "      <td>4.46</td>\n",
              "      <td>2.70</td>\n",
              "      <td>984</td>\n",
              "      <td>60.8</td>\n",
              "    </tr>\n",
              "    <tr>\n",
              "      <th>2</th>\n",
              "      <td>0.90</td>\n",
              "      <td>2</td>\n",
              "      <td>1</td>\n",
              "      <td>7</td>\n",
              "      <td>60.0</td>\n",
              "      <td>6.04</td>\n",
              "      <td>6.12</td>\n",
              "      <td>3.78</td>\n",
              "      <td>6289</td>\n",
              "      <td>62.2</td>\n",
              "    </tr>\n",
              "    <tr>\n",
              "      <th>3</th>\n",
              "      <td>0.42</td>\n",
              "      <td>4</td>\n",
              "      <td>2</td>\n",
              "      <td>4</td>\n",
              "      <td>56.0</td>\n",
              "      <td>4.82</td>\n",
              "      <td>4.80</td>\n",
              "      <td>2.96</td>\n",
              "      <td>1082</td>\n",
              "      <td>61.6</td>\n",
              "    </tr>\n",
              "    <tr>\n",
              "      <th>4</th>\n",
              "      <td>0.31</td>\n",
              "      <td>4</td>\n",
              "      <td>2</td>\n",
              "      <td>6</td>\n",
              "      <td>59.0</td>\n",
              "      <td>4.35</td>\n",
              "      <td>4.43</td>\n",
              "      <td>2.65</td>\n",
              "      <td>779</td>\n",
              "      <td>60.4</td>\n",
              "    </tr>\n",
              "    <tr>\n",
              "      <th>...</th>\n",
              "      <td>...</td>\n",
              "      <td>...</td>\n",
              "      <td>...</td>\n",
              "      <td>...</td>\n",
              "      <td>...</td>\n",
              "      <td>...</td>\n",
              "      <td>...</td>\n",
              "      <td>...</td>\n",
              "      <td>...</td>\n",
              "      <td>...</td>\n",
              "    </tr>\n",
              "    <tr>\n",
              "      <th>26962</th>\n",
              "      <td>1.11</td>\n",
              "      <td>3</td>\n",
              "      <td>3</td>\n",
              "      <td>2</td>\n",
              "      <td>58.0</td>\n",
              "      <td>6.61</td>\n",
              "      <td>6.52</td>\n",
              "      <td>4.09</td>\n",
              "      <td>5408</td>\n",
              "      <td>62.3</td>\n",
              "    </tr>\n",
              "    <tr>\n",
              "      <th>26963</th>\n",
              "      <td>0.33</td>\n",
              "      <td>4</td>\n",
              "      <td>4</td>\n",
              "      <td>1</td>\n",
              "      <td>55.0</td>\n",
              "      <td>4.44</td>\n",
              "      <td>4.42</td>\n",
              "      <td>2.74</td>\n",
              "      <td>1114</td>\n",
              "      <td>61.9</td>\n",
              "    </tr>\n",
              "    <tr>\n",
              "      <th>26964</th>\n",
              "      <td>0.51</td>\n",
              "      <td>3</td>\n",
              "      <td>1</td>\n",
              "      <td>5</td>\n",
              "      <td>58.0</td>\n",
              "      <td>5.12</td>\n",
              "      <td>5.15</td>\n",
              "      <td>3.17</td>\n",
              "      <td>1656</td>\n",
              "      <td>61.7</td>\n",
              "    </tr>\n",
              "    <tr>\n",
              "      <th>26965</th>\n",
              "      <td>0.27</td>\n",
              "      <td>2</td>\n",
              "      <td>2</td>\n",
              "      <td>7</td>\n",
              "      <td>56.0</td>\n",
              "      <td>4.19</td>\n",
              "      <td>4.20</td>\n",
              "      <td>2.60</td>\n",
              "      <td>682</td>\n",
              "      <td>61.8</td>\n",
              "    </tr>\n",
              "    <tr>\n",
              "      <th>26966</th>\n",
              "      <td>1.25</td>\n",
              "      <td>3</td>\n",
              "      <td>6</td>\n",
              "      <td>2</td>\n",
              "      <td>58.0</td>\n",
              "      <td>6.90</td>\n",
              "      <td>6.88</td>\n",
              "      <td>4.27</td>\n",
              "      <td>5166</td>\n",
              "      <td>62.0</td>\n",
              "    </tr>\n",
              "  </tbody>\n",
              "</table>\n",
              "<p>26967 rows × 10 columns</p>\n",
              "</div>"
            ],
            "text/plain": [
              "       carat  cut  color  clarity  table     x     y     z  price  depth_median\n",
              "0       0.30    4      1        2   58.0  4.27  4.29  2.66    499          62.1\n",
              "1       0.33    3      3        1   58.0  4.42  4.46  2.70    984          60.8\n",
              "2       0.90    2      1        7   60.0  6.04  6.12  3.78   6289          62.2\n",
              "3       0.42    4      2        4   56.0  4.82  4.80  2.96   1082          61.6\n",
              "4       0.31    4      2        6   59.0  4.35  4.43  2.65    779          60.4\n",
              "...      ...  ...    ...      ...    ...   ...   ...   ...    ...           ...\n",
              "26962   1.11    3      3        2   58.0  6.61  6.52  4.09   5408          62.3\n",
              "26963   0.33    4      4        1   55.0  4.44  4.42  2.74   1114          61.9\n",
              "26964   0.51    3      1        5   58.0  5.12  5.15  3.17   1656          61.7\n",
              "26965   0.27    2      2        7   56.0  4.19  4.20  2.60    682          61.8\n",
              "26966   1.25    3      6        2   58.0  6.90  6.88  4.27   5166          62.0\n",
              "\n",
              "[26967 rows x 10 columns]"
            ]
          },
          "metadata": {
            "tags": []
          },
          "execution_count": 145
        }
      ]
    },
    {
      "cell_type": "code",
      "metadata": {
        "colab": {
          "base_uri": "https://localhost:8080/",
          "height": 785
        },
        "id": "Iuo7ZBe5FlYS",
        "outputId": "d52afac6-00ab-4387-940f-6f04fcad035b"
      },
      "source": [
        "fig, ax = plt.subplots(3,3,figsize=(17,13))\n",
        "\n",
        "sns.histplot(df.carat,ax=ax[0,0],bins=10)\n",
        "\n",
        "sns.histplot(df.cut,ax=ax[0,1],bins=5)\n",
        "\n",
        "sns.histplot(df.clarity,ax=ax[0,2],bins=5)\n",
        "\n",
        "sns.histplot(df.color,ax=ax[1,0],bins=5)\n",
        "\n",
        "sns.histplot(df.table,ax=ax[1,1],bins=10)\n",
        "\n",
        "sns.histplot(df.x,ax=ax[1,2],bins=10)\n",
        "\n",
        "sns.histplot(df.y,ax=ax[2,0],bins=10)\n",
        "\n",
        "sns.histplot(df.z,ax=ax[2,1],bins=10)\n",
        "\n",
        "sns.histplot(df.depth_median,ax=ax[2,2],bins=10)"
      ],
      "execution_count": 170,
      "outputs": [
        {
          "output_type": "execute_result",
          "data": {
            "text/plain": [
              "<matplotlib.axes._subplots.AxesSubplot at 0x7f25047f9310>"
            ]
          },
          "metadata": {
            "tags": []
          },
          "execution_count": 170
        },
        {
          "output_type": "display_data",
          "data": {
            "image/png": "[encoded data removed]",
            "text/plain": [
              "<Figure size 1224x936 with 9 Axes>"
            ]
          },
          "metadata": {
            "tags": [],
            "needs_background": "light"
          }
        }
      ]
    },
    {
      "cell_type": "code",
      "metadata": {
        "colab": {
          "base_uri": "https://localhost:8080/",
          "height": 916
        },
        "id": "-LQrH5gQGpqi",
        "outputId": "573e2f78-c673-472d-8367-4211ec7eda52"
      },
      "source": [
        "df.sort_values(by='price',ascending=False).head(10).plot(x = 'price',y=['carat','cut','clarity','color','table','x','y','z','depth_median'],kind='bar', figsize= (15, 15))"
      ],
      "execution_count": 148,
      "outputs": [
        {
          "output_type": "execute_result",
          "data": {
            "text/plain": [
              "<matplotlib.axes._subplots.AxesSubplot at 0x7f250f0e88d0>"
            ]
          },
          "metadata": {
            "tags": []
          },
          "execution_count": 148
        },
        {
          "output_type": "display_data",
          "data": {
            "image/png": "[encoded data removed]",
            "text/plain": [
              "<Figure size 1080x1080 with 1 Axes>"
            ]
          },
          "metadata": {
            "tags": [],
            "needs_background": "light"
          }
        }
      ]
    },
    {
      "cell_type": "code",
      "metadata": {
        "id": "Y3aYK_SYIipK"
      },
      "source": [
        "from sklearn.model_selection import  GridSearchCV\n",
        "from xgboost import XGBRegressor\n",
        "from sklearn.model_selection import train_test_split as tts\n",
        "from sklearn.metrics import r2_score"
      ],
      "execution_count": 178,
      "outputs": []
    },
    {
      "cell_type": "code",
      "metadata": {
        "id": "W7Xxh12OI0kk"
      },
      "source": [
        "x = df.drop(columns='price',axis=1)\n",
        "y = df.iloc[:,-2]"
      ],
      "execution_count": 176,
      "outputs": []
    },
    {
      "cell_type": "code",
      "metadata": {
        "id": "8dbH6PKEJlXR"
      },
      "source": [
        "train_x,test_x,train_y,test_y = tts(x,y,test_size=0.3,random_state=2)"
      ],
      "execution_count": 179,
      "outputs": []
    },
    {
      "cell_type": "code",
      "metadata": {
        "colab": {
          "base_uri": "https://localhost:8080/"
        },
        "id": "LCRiqO1gG11o",
        "outputId": "c1d9b5b1-0f76-4887-eff2-100777ddd2fc"
      },
      "source": [
        "param_grid = [{'n_estimators':[100,150,200],'max_depth':[5,7],'reg_lambda':[0.9,1.1],'learning_rate':[0.025,0.1], 'gamma':[0.9,1.1],'reg_alpha':[0.9,1.1]}]\n",
        "XGB_REG = XGBRegressor(random_state=1,objective='reg:squarederror')\n",
        "\n",
        "XGBR = GridSearchCV(XGB_REG, param_grid, cv=5, verbose=5,\n",
        "                           scoring='neg_mean_squared_error',n_jobs=-1)\n",
        "XGBR.fit(train_x,train_y)\n",
        "XGB_REG=XGBR.best_estimator_"
      ],
      "execution_count": 184,
      "outputs": [
        {
          "output_type": "stream",
          "text": [
            "Fitting 5 folds for each of 96 candidates, totalling 480 fits\n"
          ],
          "name": "stdout"
        },
        {
          "output_type": "stream",
          "text": [
            "[Parallel(n_jobs=-1)]: Using backend LokyBackend with 2 concurrent workers.\n",
            "[Parallel(n_jobs=-1)]: Done  14 tasks      | elapsed:   12.7s\n",
            "[Parallel(n_jobs=-1)]: Done  68 tasks      | elapsed:  1.4min\n",
            "[Parallel(n_jobs=-1)]: Done 158 tasks      | elapsed:  3.8min\n",
            "[Parallel(n_jobs=-1)]: Done 284 tasks      | elapsed:  7.1min\n",
            "[Parallel(n_jobs=-1)]: Done 446 tasks      | elapsed: 11.1min\n",
            "[Parallel(n_jobs=-1)]: Done 480 out of 480 | elapsed: 12.3min finished\n"
          ],
          "name": "stderr"
        }
      ]
    },
    {
      "cell_type": "code",
      "metadata": {
        "id": "ITNquQ0dJPxt"
      },
      "source": [
        "y_pred = XGB_REG.predict(test_x)\n",
        "y_pred = np.array(y_pred)\n",
        "test_y = np.array(test_y)"
      ],
      "execution_count": 185,
      "outputs": []
    },
    {
      "cell_type": "code",
      "metadata": {
        "colab": {
          "base_uri": "https://localhost:8080/"
        },
        "id": "CPq-5vdwJgao",
        "outputId": "96e0593f-7d1c-4ef7-936f-993e8d0c3937"
      },
      "source": [
        "r2_score(y_pred,test_y)"
      ],
      "execution_count": 186,
      "outputs": [
        {
          "output_type": "execute_result",
          "data": {
            "text/plain": [
              "0.980260700498224"
            ]
          },
          "metadata": {
            "tags": []
          },
          "execution_count": 186
        }
      ]
    },
    {
      "cell_type": "code",
      "metadata": {
        "colab": {
          "base_uri": "https://localhost:8080/",
          "height": 415
        },
        "id": "RMns5DdLNTh_",
        "outputId": "f579428f-f6f6-4cd6-b294-19018344f94c"
      },
      "source": [
        "train_x"
      ],
      "execution_count": 187,
      "outputs": [
        {
          "output_type": "execute_result",
          "data": {
            "text/html": [
              "<div>\n",
              "<style scoped>\n",
              "    .dataframe tbody tr th:only-of-type {\n",
              "        vertical-align: middle;\n",
              "    }\n",
              "\n",
              "    .dataframe tbody tr th {\n",
              "        vertical-align: top;\n",
              "    }\n",
              "\n",
              "    .dataframe thead th {\n",
              "        text-align: right;\n",
              "    }\n",
              "</style>\n",
              "<table border=\"1\" class=\"dataframe\">\n",
              "  <thead>\n",
              "    <tr style=\"text-align: right;\">\n",
              "      <th></th>\n",
              "      <th>carat</th>\n",
              "      <th>cut</th>\n",
              "      <th>color</th>\n",
              "      <th>clarity</th>\n",
              "      <th>table</th>\n",
              "      <th>x</th>\n",
              "      <th>y</th>\n",
              "      <th>z</th>\n",
              "      <th>depth_median</th>\n",
              "    </tr>\n",
              "  </thead>\n",
              "  <tbody>\n",
              "    <tr>\n",
              "      <th>572</th>\n",
              "      <td>0.39</td>\n",
              "      <td>3</td>\n",
              "      <td>0</td>\n",
              "      <td>5</td>\n",
              "      <td>59.0</td>\n",
              "      <td>4.76</td>\n",
              "      <td>4.74</td>\n",
              "      <td>2.86</td>\n",
              "      <td>61.8</td>\n",
              "    </tr>\n",
              "    <tr>\n",
              "      <th>12742</th>\n",
              "      <td>1.66</td>\n",
              "      <td>4</td>\n",
              "      <td>1</td>\n",
              "      <td>3</td>\n",
              "      <td>56.0</td>\n",
              "      <td>7.45</td>\n",
              "      <td>7.63</td>\n",
              "      <td>4.73</td>\n",
              "      <td>62.7</td>\n",
              "    </tr>\n",
              "    <tr>\n",
              "      <th>787</th>\n",
              "      <td>0.33</td>\n",
              "      <td>3</td>\n",
              "      <td>3</td>\n",
              "      <td>1</td>\n",
              "      <td>58.0</td>\n",
              "      <td>4.46</td>\n",
              "      <td>4.42</td>\n",
              "      <td>2.70</td>\n",
              "      <td>60.8</td>\n",
              "    </tr>\n",
              "    <tr>\n",
              "      <th>16259</th>\n",
              "      <td>0.30</td>\n",
              "      <td>4</td>\n",
              "      <td>1</td>\n",
              "      <td>6</td>\n",
              "      <td>54.0</td>\n",
              "      <td>4.32</td>\n",
              "      <td>4.29</td>\n",
              "      <td>2.69</td>\n",
              "      <td>62.5</td>\n",
              "    </tr>\n",
              "    <tr>\n",
              "      <th>4247</th>\n",
              "      <td>0.61</td>\n",
              "      <td>4</td>\n",
              "      <td>2</td>\n",
              "      <td>7</td>\n",
              "      <td>55.0</td>\n",
              "      <td>5.43</td>\n",
              "      <td>5.47</td>\n",
              "      <td>3.37</td>\n",
              "      <td>61.8</td>\n",
              "    </tr>\n",
              "    <tr>\n",
              "      <th>...</th>\n",
              "      <td>...</td>\n",
              "      <td>...</td>\n",
              "      <td>...</td>\n",
              "      <td>...</td>\n",
              "      <td>...</td>\n",
              "      <td>...</td>\n",
              "      <td>...</td>\n",
              "      <td>...</td>\n",
              "      <td>...</td>\n",
              "    </tr>\n",
              "    <tr>\n",
              "      <th>18898</th>\n",
              "      <td>1.01</td>\n",
              "      <td>2</td>\n",
              "      <td>1</td>\n",
              "      <td>5</td>\n",
              "      <td>57.0</td>\n",
              "      <td>6.38</td>\n",
              "      <td>6.35</td>\n",
              "      <td>4.02</td>\n",
              "      <td>63.2</td>\n",
              "    </tr>\n",
              "    <tr>\n",
              "      <th>11798</th>\n",
              "      <td>0.50</td>\n",
              "      <td>4</td>\n",
              "      <td>4</td>\n",
              "      <td>2</td>\n",
              "      <td>54.0</td>\n",
              "      <td>5.12</td>\n",
              "      <td>5.16</td>\n",
              "      <td>3.15</td>\n",
              "      <td>61.3</td>\n",
              "    </tr>\n",
              "    <tr>\n",
              "      <th>6637</th>\n",
              "      <td>1.21</td>\n",
              "      <td>2</td>\n",
              "      <td>6</td>\n",
              "      <td>5</td>\n",
              "      <td>58.0</td>\n",
              "      <td>6.86</td>\n",
              "      <td>6.91</td>\n",
              "      <td>4.19</td>\n",
              "      <td>60.9</td>\n",
              "    </tr>\n",
              "    <tr>\n",
              "      <th>2575</th>\n",
              "      <td>1.05</td>\n",
              "      <td>4</td>\n",
              "      <td>3</td>\n",
              "      <td>5</td>\n",
              "      <td>56.0</td>\n",
              "      <td>6.54</td>\n",
              "      <td>6.52</td>\n",
              "      <td>4.03</td>\n",
              "      <td>61.7</td>\n",
              "    </tr>\n",
              "    <tr>\n",
              "      <th>23720</th>\n",
              "      <td>0.52</td>\n",
              "      <td>4</td>\n",
              "      <td>2</td>\n",
              "      <td>2</td>\n",
              "      <td>56.0</td>\n",
              "      <td>5.22</td>\n",
              "      <td>5.28</td>\n",
              "      <td>3.17</td>\n",
              "      <td>60.4</td>\n",
              "    </tr>\n",
              "  </tbody>\n",
              "</table>\n",
              "<p>18876 rows × 9 columns</p>\n",
              "</div>"
            ],
            "text/plain": [
              "       carat  cut  color  clarity  table     x     y     z  depth_median\n",
              "572     0.39    3      0        5   59.0  4.76  4.74  2.86          61.8\n",
              "12742   1.66    4      1        3   56.0  7.45  7.63  4.73          62.7\n",
              "787     0.33    3      3        1   58.0  4.46  4.42  2.70          60.8\n",
              "16259   0.30    4      1        6   54.0  4.32  4.29  2.69          62.5\n",
              "4247    0.61    4      2        7   55.0  5.43  5.47  3.37          61.8\n",
              "...      ...  ...    ...      ...    ...   ...   ...   ...           ...\n",
              "18898   1.01    2      1        5   57.0  6.38  6.35  4.02          63.2\n",
              "11798   0.50    4      4        2   54.0  5.12  5.16  3.15          61.3\n",
              "6637    1.21    2      6        5   58.0  6.86  6.91  4.19          60.9\n",
              "2575    1.05    4      3        5   56.0  6.54  6.52  4.03          61.7\n",
              "23720   0.52    4      2        2   56.0  5.22  5.28  3.17          60.4\n",
              "\n",
              "[18876 rows x 9 columns]"
            ]
          },
          "metadata": {
            "tags": []
          },
          "execution_count": 187
        }
      ]
    },
    {
      "cell_type": "code",
      "metadata": {
        "id": "mWRUZ1jnO7KB"
      },
      "source": [
        "data = pd.DataFrame({'carat':0.39,'cut':3,'color':0,'clarity':5,'table':59.0,'x':4.76,'y':4.74,'z':2.86,'depth_median':61.8},index=[0])"
      ],
      "execution_count": 205,
      "outputs": []
    },
    {
      "cell_type": "code",
      "metadata": {
        "colab": {
          "base_uri": "https://localhost:8080/",
          "height": 79
        },
        "id": "_PuDqXOFPl9O",
        "outputId": "577783a0-ab81-4dcf-c7fa-adb57f08e19d"
      },
      "source": [
        "data"
      ],
      "execution_count": 206,
      "outputs": [
        {
          "output_type": "execute_result",
          "data": {
            "text/html": [
              "<div>\n",
              "<style scoped>\n",
              "    .dataframe tbody tr th:only-of-type {\n",
              "        vertical-align: middle;\n",
              "    }\n",
              "\n",
              "    .dataframe tbody tr th {\n",
              "        vertical-align: top;\n",
              "    }\n",
              "\n",
              "    .dataframe thead th {\n",
              "        text-align: right;\n",
              "    }\n",
              "</style>\n",
              "<table border=\"1\" class=\"dataframe\">\n",
              "  <thead>\n",
              "    <tr style=\"text-align: right;\">\n",
              "      <th></th>\n",
              "      <th>carat</th>\n",
              "      <th>cut</th>\n",
              "      <th>color</th>\n",
              "      <th>clarity</th>\n",
              "      <th>table</th>\n",
              "      <th>x</th>\n",
              "      <th>y</th>\n",
              "      <th>z</th>\n",
              "      <th>depth_median</th>\n",
              "    </tr>\n",
              "  </thead>\n",
              "  <tbody>\n",
              "    <tr>\n",
              "      <th>0</th>\n",
              "      <td>0.39</td>\n",
              "      <td>3</td>\n",
              "      <td>0</td>\n",
              "      <td>5</td>\n",
              "      <td>59.0</td>\n",
              "      <td>4.76</td>\n",
              "      <td>4.74</td>\n",
              "      <td>2.86</td>\n",
              "      <td>61.8</td>\n",
              "    </tr>\n",
              "  </tbody>\n",
              "</table>\n",
              "</div>"
            ],
            "text/plain": [
              "   carat  cut  color  clarity  table     x     y     z  depth_median\n",
              "0   0.39    3      0        5   59.0  4.76  4.74  2.86          61.8"
            ]
          },
          "metadata": {
            "tags": []
          },
          "execution_count": 206
        }
      ]
    },
    {
      "cell_type": "code",
      "metadata": {
        "colab": {
          "base_uri": "https://localhost:8080/"
        },
        "id": "sPYNwcPVNf5O",
        "outputId": "b148930c-e6fa-4cd8-8244-865caaf97eb2"
      },
      "source": [
        "XGB_REG.predict(data)"
      ],
      "execution_count": 207,
      "outputs": [
        {
          "output_type": "execute_result",
          "data": {
            "text/plain": [
              "array([1028.3433], dtype=float32)"
            ]
          },
          "metadata": {
            "tags": []
          },
          "execution_count": 207
        }
      ]
    },
    {
      "cell_type": "code",
      "metadata": {
        "id": "3AS-DWm0Pulu"
      },
      "source": [
        "test_dict = {'carat':0.29,'cut':2,'color':1,'clarity':3,'table':57.0,'x':4.66,'y':4.64,'z':2.82,'depth_median':62.8}"
      ],
      "execution_count": 208,
      "outputs": []
    },
    {
      "cell_type": "code",
      "metadata": {
        "colab": {
          "base_uri": "https://localhost:8080/",
          "height": 79
        },
        "id": "6IrDs_VdP7k7",
        "outputId": "30d3f461-33a7-4d77-d49b-fa7cdc5f4e52"
      },
      "source": [
        "test = pd.DataFrame(test_dict,index=[0])\n",
        "test"
      ],
      "execution_count": 209,
      "outputs": [
        {
          "output_type": "execute_result",
          "data": {
            "text/html": [
              "<div>\n",
              "<style scoped>\n",
              "    .dataframe tbody tr th:only-of-type {\n",
              "        vertical-align: middle;\n",
              "    }\n",
              "\n",
              "    .dataframe tbody tr th {\n",
              "        vertical-align: top;\n",
              "    }\n",
              "\n",
              "    .dataframe thead th {\n",
              "        text-align: right;\n",
              "    }\n",
              "</style>\n",
              "<table border=\"1\" class=\"dataframe\">\n",
              "  <thead>\n",
              "    <tr style=\"text-align: right;\">\n",
              "      <th></th>\n",
              "      <th>carat</th>\n",
              "      <th>cut</th>\n",
              "      <th>color</th>\n",
              "      <th>clarity</th>\n",
              "      <th>table</th>\n",
              "      <th>x</th>\n",
              "      <th>y</th>\n",
              "      <th>z</th>\n",
              "      <th>depth_median</th>\n",
              "    </tr>\n",
              "  </thead>\n",
              "  <tbody>\n",
              "    <tr>\n",
              "      <th>0</th>\n",
              "      <td>0.29</td>\n",
              "      <td>2</td>\n",
              "      <td>1</td>\n",
              "      <td>3</td>\n",
              "      <td>57.0</td>\n",
              "      <td>4.66</td>\n",
              "      <td>4.64</td>\n",
              "      <td>2.82</td>\n",
              "      <td>62.8</td>\n",
              "    </tr>\n",
              "  </tbody>\n",
              "</table>\n",
              "</div>"
            ],
            "text/plain": [
              "   carat  cut  color  clarity  table     x     y     z  depth_median\n",
              "0   0.29    2      1        3   57.0  4.66  4.64  2.82          62.8"
            ]
          },
          "metadata": {
            "tags": []
          },
          "execution_count": 209
        }
      ]
    },
    {
      "cell_type": "code",
      "metadata": {
        "colab": {
          "base_uri": "https://localhost:8080/"
        },
        "id": "SqtAcCrqQDNQ",
        "outputId": "adfe3c5f-b66e-4613-c4f2-f69e492c371f"
      },
      "source": [
        "XGB_REG.predict(test)"
      ],
      "execution_count": 210,
      "outputs": [
        {
          "output_type": "execute_result",
          "data": {
            "text/plain": [
              "array([597.659], dtype=float32)"
            ]
          },
          "metadata": {
            "tags": []
          },
          "execution_count": 210
        }
      ]
    },
    {
      "cell_type": "code",
      "metadata": {
        "colab": {
          "base_uri": "https://localhost:8080/",
          "height": 79
        },
        "id": "5ZcVnrpxQGaP",
        "outputId": "e5ec3d9b-99ce-4bb7-d662-29a10f0d1240"
      },
      "source": [
        "carat,cut,color,clarity,table,x,y,z,depth_median=0.4,2,1,3,57.0,4.66,4.64,2.82,62.8\n",
        "test = pd.DataFrame({'carat':carat,'cut':cut,'color':color,'clarity':clarity,'table':table,'x':x,'y':y,'z':z,'depth_median':depth_median},index=[0])\n",
        "test"
      ],
      "execution_count": 217,
      "outputs": [
        {
          "output_type": "execute_result",
          "data": {
            "text/html": [
              "<div>\n",
              "<style scoped>\n",
              "    .dataframe tbody tr th:only-of-type {\n",
              "        vertical-align: middle;\n",
              "    }\n",
              "\n",
              "    .dataframe tbody tr th {\n",
              "        vertical-align: top;\n",
              "    }\n",
              "\n",
              "    .dataframe thead th {\n",
              "        text-align: right;\n",
              "    }\n",
              "</style>\n",
              "<table border=\"1\" class=\"dataframe\">\n",
              "  <thead>\n",
              "    <tr style=\"text-align: right;\">\n",
              "      <th></th>\n",
              "      <th>carat</th>\n",
              "      <th>cut</th>\n",
              "      <th>color</th>\n",
              "      <th>clarity</th>\n",
              "      <th>table</th>\n",
              "      <th>x</th>\n",
              "      <th>y</th>\n",
              "      <th>z</th>\n",
              "      <th>depth_median</th>\n",
              "    </tr>\n",
              "  </thead>\n",
              "  <tbody>\n",
              "    <tr>\n",
              "      <th>0</th>\n",
              "      <td>0.4</td>\n",
              "      <td>2</td>\n",
              "      <td>1</td>\n",
              "      <td>3</td>\n",
              "      <td>57.0</td>\n",
              "      <td>4.66</td>\n",
              "      <td>4.64</td>\n",
              "      <td>2.82</td>\n",
              "      <td>62.8</td>\n",
              "    </tr>\n",
              "  </tbody>\n",
              "</table>\n",
              "</div>"
            ],
            "text/plain": [
              "   carat  cut  color  clarity  table     x     y     z  depth_median\n",
              "0    0.4    2      1        3   57.0  4.66  4.64  2.82          62.8"
            ]
          },
          "metadata": {
            "tags": []
          },
          "execution_count": 217
        }
      ]
    },
    {
      "cell_type": "code",
      "metadata": {
        "colab": {
          "base_uri": "https://localhost:8080/"
        },
        "id": "qVAG-bGWQhHh",
        "outputId": "c76da39b-bb10-465c-8c40-67f1a2a391f7"
      },
      "source": [
        "XGB_REG.predict(test)"
      ],
      "execution_count": 218,
      "outputs": [
        {
          "output_type": "execute_result",
          "data": {
            "text/plain": [
              "array([627.62213], dtype=float32)"
            ]
          },
          "metadata": {
            "tags": []
          },
          "execution_count": 218
        }
      ]
    }
  ]
}